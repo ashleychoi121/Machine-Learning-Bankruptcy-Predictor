{
  "cells": [
    {
      "cell_type": "markdown",
      "metadata": {
        "id": "view-in-github",
        "colab_type": "text"
      },
      "source": [
        "<a href=\"https://colab.research.google.com/github/ashleychoi121/Machine-Learning-Bankruptcy-Predictor/blob/main/Capstone_II_Loan_Dataset_final.ipynb\" target=\"_parent\"><img src=\"https://colab.research.google.com/assets/colab-badge.svg\" alt=\"Open In Colab\"/></a>"
      ]
    },
    {
      "cell_type": "code",
      "execution_count": null,
      "metadata": {
        "id": "7nDbDbtq5DWV"
      },
      "outputs": [],
      "source": [
        "import pandas as pd\n",
        "import matplotlib.pyplot as plt\n",
        "import seaborn as sns\n",
        "import numpy as np\n",
        "from sklearn import ensemble\n",
        "from sklearn.metrics import accuracy_score, precision_score, recall_score, f1_score, fbeta_score, classification_report\n",
        "from sklearn.metrics import roc_curve, precision_recall_curve, roc_auc_score\n",
        "from sklearn.metrics import confusion_matrix\n",
        "from sklearn.impute import SimpleImputer\n",
        "from sklearn.model_selection import train_test_split\n",
        "\n",
        "from sklearn.linear_model import LogisticRegression\n",
        "from sklearn.ensemble import RandomForestClassifier\n",
        "from sklearn.model_selection import cross_val_score\n",
        "from sklearn.model_selection import train_test_split"
      ]
    },
    {
      "cell_type": "code",
      "execution_count": null,
      "metadata": {
        "colab": {
          "base_uri": "https://localhost:8080/",
          "height": 582
        },
        "id": "1ynhaQJR5NHt",
        "outputId": "a23c00f6-5b7d-4377-d287-ce0752120f0b"
      },
      "outputs": [
        {
          "output_type": "execute_result",
          "data": {
            "text/plain": [
              "                                Loan ID                           Customer ID  \\\n",
              "0  14dd8831-6af5-400b-83ec-68e61888a048  981165ec-3274-42f5-a3b4-d104041a9ca9   \n",
              "1  4771cc26-131a-45db-b5aa-537ea4ba5342  2de017a3-2e01-49cb-a581-08169e83be29   \n",
              "2  4eed4e6a-aa2f-4c91-8651-ce984ee8fb26  5efb2b2b-bf11-4dfd-a572-3761a2694725   \n",
              "3  77598f7b-32e7-4e3b-a6e5-06ba0d98fe8a  e777faab-98ae-45af-9a86-7ce5b33b1011   \n",
              "4  d4062e70-befa-4995-8643-a0de73938182  81536ad9-5ccf-4eb8-befb-47a4d608658e   \n",
              "\n",
              "  Loan Status  Current Loan Amount        Term  Credit Score  Annual Income  \\\n",
              "0  Fully Paid             445412.0  Short Term         709.0      1167493.0   \n",
              "1  Fully Paid             262328.0  Short Term           NaN            NaN   \n",
              "2  Fully Paid           99999999.0  Short Term         741.0      2231892.0   \n",
              "3  Fully Paid             347666.0   Long Term         721.0       806949.0   \n",
              "4  Fully Paid             176220.0  Short Term           NaN            NaN   \n",
              "\n",
              "  Years in current job Home Ownership             Purpose  Monthly Debt  \\\n",
              "0              8 years  Home Mortgage   Home Improvements       5214.74   \n",
              "1            10+ years  Home Mortgage  Debt Consolidation      33295.98   \n",
              "2              8 years       Own Home  Debt Consolidation      29200.53   \n",
              "3              3 years       Own Home  Debt Consolidation       8741.90   \n",
              "4              5 years           Rent  Debt Consolidation      20639.70   \n",
              "\n",
              "   Years of Credit History  Months since last delinquent  \\\n",
              "0                     17.2                           NaN   \n",
              "1                     21.1                           8.0   \n",
              "2                     14.9                          29.0   \n",
              "3                     12.0                           NaN   \n",
              "4                      6.1                           NaN   \n",
              "\n",
              "   Number of Open Accounts  Number of Credit Problems  Current Credit Balance  \\\n",
              "0                      6.0                        1.0                228190.0   \n",
              "1                     35.0                        0.0                229976.0   \n",
              "2                     18.0                        1.0                297996.0   \n",
              "3                      9.0                        0.0                256329.0   \n",
              "4                     15.0                        0.0                253460.0   \n",
              "\n",
              "   Maximum Open Credit  Bankruptcies  Tax Liens  \n",
              "0             416746.0           1.0        0.0  \n",
              "1             850784.0           0.0        0.0  \n",
              "2             750090.0           0.0        0.0  \n",
              "3             386958.0           0.0        0.0  \n",
              "4             427174.0           0.0        0.0  "
            ],
            "text/html": [
              "\n",
              "  <div id=\"df-57986bb8-06bb-41cb-a3c2-e9eef21e3942\">\n",
              "    <div class=\"colab-df-container\">\n",
              "      <div>\n",
              "<style scoped>\n",
              "    .dataframe tbody tr th:only-of-type {\n",
              "        vertical-align: middle;\n",
              "    }\n",
              "\n",
              "    .dataframe tbody tr th {\n",
              "        vertical-align: top;\n",
              "    }\n",
              "\n",
              "    .dataframe thead th {\n",
              "        text-align: right;\n",
              "    }\n",
              "</style>\n",
              "<table border=\"1\" class=\"dataframe\">\n",
              "  <thead>\n",
              "    <tr style=\"text-align: right;\">\n",
              "      <th></th>\n",
              "      <th>Loan ID</th>\n",
              "      <th>Customer ID</th>\n",
              "      <th>Loan Status</th>\n",
              "      <th>Current Loan Amount</th>\n",
              "      <th>Term</th>\n",
              "      <th>Credit Score</th>\n",
              "      <th>Annual Income</th>\n",
              "      <th>Years in current job</th>\n",
              "      <th>Home Ownership</th>\n",
              "      <th>Purpose</th>\n",
              "      <th>Monthly Debt</th>\n",
              "      <th>Years of Credit History</th>\n",
              "      <th>Months since last delinquent</th>\n",
              "      <th>Number of Open Accounts</th>\n",
              "      <th>Number of Credit Problems</th>\n",
              "      <th>Current Credit Balance</th>\n",
              "      <th>Maximum Open Credit</th>\n",
              "      <th>Bankruptcies</th>\n",
              "      <th>Tax Liens</th>\n",
              "    </tr>\n",
              "  </thead>\n",
              "  <tbody>\n",
              "    <tr>\n",
              "      <th>0</th>\n",
              "      <td>14dd8831-6af5-400b-83ec-68e61888a048</td>\n",
              "      <td>981165ec-3274-42f5-a3b4-d104041a9ca9</td>\n",
              "      <td>Fully Paid</td>\n",
              "      <td>445412.0</td>\n",
              "      <td>Short Term</td>\n",
              "      <td>709.0</td>\n",
              "      <td>1167493.0</td>\n",
              "      <td>8 years</td>\n",
              "      <td>Home Mortgage</td>\n",
              "      <td>Home Improvements</td>\n",
              "      <td>5214.74</td>\n",
              "      <td>17.2</td>\n",
              "      <td>NaN</td>\n",
              "      <td>6.0</td>\n",
              "      <td>1.0</td>\n",
              "      <td>228190.0</td>\n",
              "      <td>416746.0</td>\n",
              "      <td>1.0</td>\n",
              "      <td>0.0</td>\n",
              "    </tr>\n",
              "    <tr>\n",
              "      <th>1</th>\n",
              "      <td>4771cc26-131a-45db-b5aa-537ea4ba5342</td>\n",
              "      <td>2de017a3-2e01-49cb-a581-08169e83be29</td>\n",
              "      <td>Fully Paid</td>\n",
              "      <td>262328.0</td>\n",
              "      <td>Short Term</td>\n",
              "      <td>NaN</td>\n",
              "      <td>NaN</td>\n",
              "      <td>10+ years</td>\n",
              "      <td>Home Mortgage</td>\n",
              "      <td>Debt Consolidation</td>\n",
              "      <td>33295.98</td>\n",
              "      <td>21.1</td>\n",
              "      <td>8.0</td>\n",
              "      <td>35.0</td>\n",
              "      <td>0.0</td>\n",
              "      <td>229976.0</td>\n",
              "      <td>850784.0</td>\n",
              "      <td>0.0</td>\n",
              "      <td>0.0</td>\n",
              "    </tr>\n",
              "    <tr>\n",
              "      <th>2</th>\n",
              "      <td>4eed4e6a-aa2f-4c91-8651-ce984ee8fb26</td>\n",
              "      <td>5efb2b2b-bf11-4dfd-a572-3761a2694725</td>\n",
              "      <td>Fully Paid</td>\n",
              "      <td>99999999.0</td>\n",
              "      <td>Short Term</td>\n",
              "      <td>741.0</td>\n",
              "      <td>2231892.0</td>\n",
              "      <td>8 years</td>\n",
              "      <td>Own Home</td>\n",
              "      <td>Debt Consolidation</td>\n",
              "      <td>29200.53</td>\n",
              "      <td>14.9</td>\n",
              "      <td>29.0</td>\n",
              "      <td>18.0</td>\n",
              "      <td>1.0</td>\n",
              "      <td>297996.0</td>\n",
              "      <td>750090.0</td>\n",
              "      <td>0.0</td>\n",
              "      <td>0.0</td>\n",
              "    </tr>\n",
              "    <tr>\n",
              "      <th>3</th>\n",
              "      <td>77598f7b-32e7-4e3b-a6e5-06ba0d98fe8a</td>\n",
              "      <td>e777faab-98ae-45af-9a86-7ce5b33b1011</td>\n",
              "      <td>Fully Paid</td>\n",
              "      <td>347666.0</td>\n",
              "      <td>Long Term</td>\n",
              "      <td>721.0</td>\n",
              "      <td>806949.0</td>\n",
              "      <td>3 years</td>\n",
              "      <td>Own Home</td>\n",
              "      <td>Debt Consolidation</td>\n",
              "      <td>8741.90</td>\n",
              "      <td>12.0</td>\n",
              "      <td>NaN</td>\n",
              "      <td>9.0</td>\n",
              "      <td>0.0</td>\n",
              "      <td>256329.0</td>\n",
              "      <td>386958.0</td>\n",
              "      <td>0.0</td>\n",
              "      <td>0.0</td>\n",
              "    </tr>\n",
              "    <tr>\n",
              "      <th>4</th>\n",
              "      <td>d4062e70-befa-4995-8643-a0de73938182</td>\n",
              "      <td>81536ad9-5ccf-4eb8-befb-47a4d608658e</td>\n",
              "      <td>Fully Paid</td>\n",
              "      <td>176220.0</td>\n",
              "      <td>Short Term</td>\n",
              "      <td>NaN</td>\n",
              "      <td>NaN</td>\n",
              "      <td>5 years</td>\n",
              "      <td>Rent</td>\n",
              "      <td>Debt Consolidation</td>\n",
              "      <td>20639.70</td>\n",
              "      <td>6.1</td>\n",
              "      <td>NaN</td>\n",
              "      <td>15.0</td>\n",
              "      <td>0.0</td>\n",
              "      <td>253460.0</td>\n",
              "      <td>427174.0</td>\n",
              "      <td>0.0</td>\n",
              "      <td>0.0</td>\n",
              "    </tr>\n",
              "  </tbody>\n",
              "</table>\n",
              "</div>\n",
              "      <button class=\"colab-df-convert\" onclick=\"convertToInteractive('df-57986bb8-06bb-41cb-a3c2-e9eef21e3942')\"\n",
              "              title=\"Convert this dataframe to an interactive table.\"\n",
              "              style=\"display:none;\">\n",
              "        \n",
              "  <svg xmlns=\"http://www.w3.org/2000/svg\" height=\"24px\"viewBox=\"0 0 24 24\"\n",
              "       width=\"24px\">\n",
              "    <path d=\"M0 0h24v24H0V0z\" fill=\"none\"/>\n",
              "    <path d=\"M18.56 5.44l.94 2.06.94-2.06 2.06-.94-2.06-.94-.94-2.06-.94 2.06-2.06.94zm-11 1L8.5 8.5l.94-2.06 2.06-.94-2.06-.94L8.5 2.5l-.94 2.06-2.06.94zm10 10l.94 2.06.94-2.06 2.06-.94-2.06-.94-.94-2.06-.94 2.06-2.06.94z\"/><path d=\"M17.41 7.96l-1.37-1.37c-.4-.4-.92-.59-1.43-.59-.52 0-1.04.2-1.43.59L10.3 9.45l-7.72 7.72c-.78.78-.78 2.05 0 2.83L4 21.41c.39.39.9.59 1.41.59.51 0 1.02-.2 1.41-.59l7.78-7.78 2.81-2.81c.8-.78.8-2.07 0-2.86zM5.41 20L4 18.59l7.72-7.72 1.47 1.35L5.41 20z\"/>\n",
              "  </svg>\n",
              "      </button>\n",
              "      \n",
              "  <style>\n",
              "    .colab-df-container {\n",
              "      display:flex;\n",
              "      flex-wrap:wrap;\n",
              "      gap: 12px;\n",
              "    }\n",
              "\n",
              "    .colab-df-convert {\n",
              "      background-color: #E8F0FE;\n",
              "      border: none;\n",
              "      border-radius: 50%;\n",
              "      cursor: pointer;\n",
              "      display: none;\n",
              "      fill: #1967D2;\n",
              "      height: 32px;\n",
              "      padding: 0 0 0 0;\n",
              "      width: 32px;\n",
              "    }\n",
              "\n",
              "    .colab-df-convert:hover {\n",
              "      background-color: #E2EBFA;\n",
              "      box-shadow: 0px 1px 2px rgba(60, 64, 67, 0.3), 0px 1px 3px 1px rgba(60, 64, 67, 0.15);\n",
              "      fill: #174EA6;\n",
              "    }\n",
              "\n",
              "    [theme=dark] .colab-df-convert {\n",
              "      background-color: #3B4455;\n",
              "      fill: #D2E3FC;\n",
              "    }\n",
              "\n",
              "    [theme=dark] .colab-df-convert:hover {\n",
              "      background-color: #434B5C;\n",
              "      box-shadow: 0px 1px 3px 1px rgba(0, 0, 0, 0.15);\n",
              "      filter: drop-shadow(0px 1px 2px rgba(0, 0, 0, 0.3));\n",
              "      fill: #FFFFFF;\n",
              "    }\n",
              "  </style>\n",
              "\n",
              "      <script>\n",
              "        const buttonEl =\n",
              "          document.querySelector('#df-57986bb8-06bb-41cb-a3c2-e9eef21e3942 button.colab-df-convert');\n",
              "        buttonEl.style.display =\n",
              "          google.colab.kernel.accessAllowed ? 'block' : 'none';\n",
              "\n",
              "        async function convertToInteractive(key) {\n",
              "          const element = document.querySelector('#df-57986bb8-06bb-41cb-a3c2-e9eef21e3942');\n",
              "          const dataTable =\n",
              "            await google.colab.kernel.invokeFunction('convertToInteractive',\n",
              "                                                     [key], {});\n",
              "          if (!dataTable) return;\n",
              "\n",
              "          const docLinkHtml = 'Like what you see? Visit the ' +\n",
              "            '<a target=\"_blank\" href=https://colab.research.google.com/notebooks/data_table.ipynb>data table notebook</a>'\n",
              "            + ' to learn more about interactive tables.';\n",
              "          element.innerHTML = '';\n",
              "          dataTable['output_type'] = 'display_data';\n",
              "          await google.colab.output.renderOutput(dataTable, element);\n",
              "          const docLink = document.createElement('div');\n",
              "          docLink.innerHTML = docLinkHtml;\n",
              "          element.appendChild(docLink);\n",
              "        }\n",
              "      </script>\n",
              "    </div>\n",
              "  </div>\n",
              "  "
            ]
          },
          "metadata": {},
          "execution_count": 2
        }
      ],
      "source": [
        "loan_train = pd.read_csv(r'C:\\Users\\cya15\\OneDrive\\Documents\\Thinkful_Data Science Bootcamp\\credit_train.csv')\n",
        "#loan_train = pd.read_csv('credit_train.csv')\n",
        "# data from Kaggle: https://www.kaggle.com/datasets/zaurbegiev/my-dataset\n",
        "loan_train.head()"
      ]
    },
    {
      "cell_type": "code",
      "execution_count": null,
      "metadata": {
        "id": "_nU5Dn6k-rZp"
      },
      "outputs": [],
      "source": [
        "#Making copy of the original dataset.\n",
        "df_train = loan_train.copy()"
      ]
    },
    {
      "cell_type": "code",
      "execution_count": null,
      "metadata": {
        "colab": {
          "base_uri": "https://localhost:8080/"
        },
        "id": "UL2ZARlVAapz",
        "outputId": "8053b107-fd6a-4dbd-ceef-651a9b605ac0"
      },
      "outputs": [
        {
          "output_type": "stream",
          "name": "stdout",
          "text": [
            "<class 'pandas.core.frame.DataFrame'>\n",
            "RangeIndex: 100514 entries, 0 to 100513\n",
            "Data columns (total 19 columns):\n",
            " #   Column                        Non-Null Count   Dtype  \n",
            "---  ------                        --------------   -----  \n",
            " 0   Loan ID                       100000 non-null  object \n",
            " 1   Customer ID                   100000 non-null  object \n",
            " 2   Loan Status                   100000 non-null  object \n",
            " 3   Current Loan Amount           100000 non-null  float64\n",
            " 4   Term                          100000 non-null  object \n",
            " 5   Credit Score                  80846 non-null   float64\n",
            " 6   Annual Income                 80846 non-null   float64\n",
            " 7   Years in current job          95778 non-null   object \n",
            " 8   Home Ownership                100000 non-null  object \n",
            " 9   Purpose                       100000 non-null  object \n",
            " 10  Monthly Debt                  100000 non-null  float64\n",
            " 11  Years of Credit History       100000 non-null  float64\n",
            " 12  Months since last delinquent  46859 non-null   float64\n",
            " 13  Number of Open Accounts       100000 non-null  float64\n",
            " 14  Number of Credit Problems     100000 non-null  float64\n",
            " 15  Current Credit Balance        100000 non-null  float64\n",
            " 16  Maximum Open Credit           99998 non-null   float64\n",
            " 17  Bankruptcies                  99796 non-null   float64\n",
            " 18  Tax Liens                     99990 non-null   float64\n",
            "dtypes: float64(12), object(7)\n",
            "memory usage: 14.6+ MB\n"
          ]
        }
      ],
      "source": [
        "df_train.info()"
      ]
    },
    {
      "cell_type": "code",
      "execution_count": null,
      "metadata": {
        "id": "cX1oMz-U5j0p"
      },
      "outputs": [],
      "source": [
        "df_train.drop(['Loan ID', 'Customer ID'], axis = 1, inplace = True)"
      ]
    },
    {
      "cell_type": "code",
      "execution_count": null,
      "metadata": {
        "id": "WZCJvC7WD3ql"
      },
      "outputs": [],
      "source": [
        "#No delinquent data is NaN. Thus, changing them to 0.0 months.\n",
        "df_train['Months since last delinquent'] = df_train['Months since last delinquent'].apply(lambda x: 0.0 if x ==np.NaN else x)"
      ]
    },
    {
      "cell_type": "code",
      "execution_count": null,
      "metadata": {
        "id": "vmfp4chdD3qm"
      },
      "outputs": [],
      "source": [
        "df_train.drop_duplicates(inplace = True)\n",
        "df_train.dropna(inplace=True)"
      ]
    },
    {
      "cell_type": "code",
      "execution_count": null,
      "metadata": {
        "id": "e3X0McIxB0OF"
      },
      "outputs": [],
      "source": [
        "#Maximum possible credit score is 900. So anything above it going to be NA and replaced with mean Credit Score.\n",
        "df_train['Credit Score'] = df_train['Credit Score'].apply(lambda x: np.NaN if x >= 900 else x)"
      ]
    },
    {
      "cell_type": "code",
      "execution_count": null,
      "metadata": {
        "id": "Zc1xfP5wD25L"
      },
      "outputs": [],
      "source": [
        "df_train['Credit Score'] = df_train['Credit Score'].fillna(df_train['Credit Score'].mean())"
      ]
    },
    {
      "cell_type": "code",
      "execution_count": null,
      "metadata": {
        "id": "ym65KyfOD3qn",
        "outputId": "2a93e7d6-71ee-4d6b-d522-3d8e1d2ac36a",
        "colab": {
          "base_uri": "https://localhost:8080/"
        }
      },
      "outputs": [
        {
          "output_type": "execute_result",
          "data": {
            "text/plain": [
              "(31254, 17)"
            ]
          },
          "metadata": {},
          "execution_count": 10
        }
      ],
      "source": [
        "df_train.shape"
      ]
    },
    {
      "cell_type": "code",
      "execution_count": null,
      "metadata": {
        "scrolled": true,
        "id": "792pc1-0D3qo",
        "outputId": "b8dbaf76-4e0c-43dd-d576-874565830642",
        "colab": {
          "base_uri": "https://localhost:8080/",
          "height": 608
        }
      },
      "outputs": [
        {
          "output_type": "execute_result",
          "data": {
            "text/plain": [
              "                              Current Loan Amount  Credit Score  \\\n",
              "Current Loan Amount                      1.000000      0.106522   \n",
              "Credit Score                             0.106522      1.000000   \n",
              "Annual Income                            0.017543     -0.004512   \n",
              "Monthly Debt                            -0.002620     -0.082201   \n",
              "Years of Credit History                  0.016059      0.068355   \n",
              "Months since last delinquent             0.012404      0.044032   \n",
              "Number of Open Accounts                  0.003097     -0.007643   \n",
              "Number of Credit Problems               -0.000363     -0.040231   \n",
              "Current Credit Balance                   0.008814     -0.014659   \n",
              "Maximum Open Credit                     -0.001628      0.019183   \n",
              "Bankruptcies                            -0.000469     -0.028300   \n",
              "Tax Liens                               -0.003754     -0.015051   \n",
              "\n",
              "                              Annual Income  Monthly Debt  \\\n",
              "Current Loan Amount                0.017543     -0.002620   \n",
              "Credit Score                      -0.004512     -0.082201   \n",
              "Annual Income                      1.000000      0.549013   \n",
              "Monthly Debt                       0.549013      1.000000   \n",
              "Years of Credit History            0.172627      0.175281   \n",
              "Months since last delinquent      -0.074343     -0.058461   \n",
              "Number of Open Accounts            0.136646      0.376494   \n",
              "Number of Credit Problems         -0.016934     -0.046203   \n",
              "Current Credit Balance             0.347657      0.440966   \n",
              "Maximum Open Credit                0.045589      0.038538   \n",
              "Bankruptcies                      -0.062266     -0.074317   \n",
              "Tax Liens                          0.058991      0.030203   \n",
              "\n",
              "                              Years of Credit History  \\\n",
              "Current Loan Amount                          0.016059   \n",
              "Credit Score                                 0.068355   \n",
              "Annual Income                                0.172627   \n",
              "Monthly Debt                                 0.175281   \n",
              "Years of Credit History                      1.000000   \n",
              "Months since last delinquent                -0.043186   \n",
              "Number of Open Accounts                      0.100001   \n",
              "Number of Credit Problems                    0.022365   \n",
              "Current Credit Balance                       0.204042   \n",
              "Maximum Open Credit                          0.029919   \n",
              "Bankruptcies                                 0.021439   \n",
              "Tax Liens                                    0.010929   \n",
              "\n",
              "                              Months since last delinquent  \\\n",
              "Current Loan Amount                               0.012404   \n",
              "Credit Score                                      0.044032   \n",
              "Annual Income                                    -0.074343   \n",
              "Monthly Debt                                     -0.058461   \n",
              "Years of Credit History                          -0.043186   \n",
              "Months since last delinquent                      1.000000   \n",
              "Number of Open Accounts                          -0.030883   \n",
              "Number of Credit Problems                         0.099127   \n",
              "Current Credit Balance                           -0.026890   \n",
              "Maximum Open Credit                              -0.006302   \n",
              "Bankruptcies                                      0.121035   \n",
              "Tax Liens                                         0.010020   \n",
              "\n",
              "                              Number of Open Accounts  \\\n",
              "Current Loan Amount                          0.003097   \n",
              "Credit Score                                -0.007643   \n",
              "Annual Income                                0.136646   \n",
              "Monthly Debt                                 0.376494   \n",
              "Years of Credit History                      0.100001   \n",
              "Months since last delinquent                -0.030883   \n",
              "Number of Open Accounts                      1.000000   \n",
              "Number of Credit Problems                   -0.017430   \n",
              "Current Credit Balance                       0.224102   \n",
              "Maximum Open Credit                          0.030206   \n",
              "Bankruptcies                                -0.022869   \n",
              "Tax Liens                                    0.000764   \n",
              "\n",
              "                              Number of Credit Problems  \\\n",
              "Current Loan Amount                           -0.000363   \n",
              "Credit Score                                  -0.040231   \n",
              "Annual Income                                 -0.016934   \n",
              "Monthly Debt                                  -0.046203   \n",
              "Years of Credit History                        0.022365   \n",
              "Months since last delinquent                   0.099127   \n",
              "Number of Open Accounts                       -0.017430   \n",
              "Number of Credit Problems                      1.000000   \n",
              "Current Credit Balance                        -0.108240   \n",
              "Maximum Open Credit                           -0.011378   \n",
              "Bankruptcies                                   0.699446   \n",
              "Tax Liens                                      0.608190   \n",
              "\n",
              "                              Current Credit Balance  Maximum Open Credit  \\\n",
              "Current Loan Amount                         0.008814            -0.001628   \n",
              "Credit Score                               -0.014659             0.019183   \n",
              "Annual Income                               0.347657             0.045589   \n",
              "Monthly Debt                                0.440966             0.038538   \n",
              "Years of Credit History                     0.204042             0.029919   \n",
              "Months since last delinquent               -0.026890            -0.006302   \n",
              "Number of Open Accounts                     0.224102             0.030206   \n",
              "Number of Credit Problems                  -0.108240            -0.011378   \n",
              "Current Credit Balance                      1.000000             0.147560   \n",
              "Maximum Open Credit                         0.147560             1.000000   \n",
              "Bankruptcies                               -0.120592            -0.016032   \n",
              "Tax Liens                                  -0.013870            -0.003080   \n",
              "\n",
              "                              Bankruptcies  Tax Liens  \n",
              "Current Loan Amount              -0.000469  -0.003754  \n",
              "Credit Score                     -0.028300  -0.015051  \n",
              "Annual Income                    -0.062266   0.058991  \n",
              "Monthly Debt                     -0.074317   0.030203  \n",
              "Years of Credit History           0.021439   0.010929  \n",
              "Months since last delinquent      0.121035   0.010020  \n",
              "Number of Open Accounts          -0.022869   0.000764  \n",
              "Number of Credit Problems         0.699446   0.608190  \n",
              "Current Credit Balance           -0.120592  -0.013870  \n",
              "Maximum Open Credit              -0.016032  -0.003080  \n",
              "Bankruptcies                      1.000000   0.037478  \n",
              "Tax Liens                         0.037478   1.000000  "
            ],
            "text/html": [
              "\n",
              "  <div id=\"df-02c644eb-11db-4615-9762-be310e4e3d93\">\n",
              "    <div class=\"colab-df-container\">\n",
              "      <div>\n",
              "<style scoped>\n",
              "    .dataframe tbody tr th:only-of-type {\n",
              "        vertical-align: middle;\n",
              "    }\n",
              "\n",
              "    .dataframe tbody tr th {\n",
              "        vertical-align: top;\n",
              "    }\n",
              "\n",
              "    .dataframe thead th {\n",
              "        text-align: right;\n",
              "    }\n",
              "</style>\n",
              "<table border=\"1\" class=\"dataframe\">\n",
              "  <thead>\n",
              "    <tr style=\"text-align: right;\">\n",
              "      <th></th>\n",
              "      <th>Current Loan Amount</th>\n",
              "      <th>Credit Score</th>\n",
              "      <th>Annual Income</th>\n",
              "      <th>Monthly Debt</th>\n",
              "      <th>Years of Credit History</th>\n",
              "      <th>Months since last delinquent</th>\n",
              "      <th>Number of Open Accounts</th>\n",
              "      <th>Number of Credit Problems</th>\n",
              "      <th>Current Credit Balance</th>\n",
              "      <th>Maximum Open Credit</th>\n",
              "      <th>Bankruptcies</th>\n",
              "      <th>Tax Liens</th>\n",
              "    </tr>\n",
              "  </thead>\n",
              "  <tbody>\n",
              "    <tr>\n",
              "      <th>Current Loan Amount</th>\n",
              "      <td>1.000000</td>\n",
              "      <td>0.106522</td>\n",
              "      <td>0.017543</td>\n",
              "      <td>-0.002620</td>\n",
              "      <td>0.016059</td>\n",
              "      <td>0.012404</td>\n",
              "      <td>0.003097</td>\n",
              "      <td>-0.000363</td>\n",
              "      <td>0.008814</td>\n",
              "      <td>-0.001628</td>\n",
              "      <td>-0.000469</td>\n",
              "      <td>-0.003754</td>\n",
              "    </tr>\n",
              "    <tr>\n",
              "      <th>Credit Score</th>\n",
              "      <td>0.106522</td>\n",
              "      <td>1.000000</td>\n",
              "      <td>-0.004512</td>\n",
              "      <td>-0.082201</td>\n",
              "      <td>0.068355</td>\n",
              "      <td>0.044032</td>\n",
              "      <td>-0.007643</td>\n",
              "      <td>-0.040231</td>\n",
              "      <td>-0.014659</td>\n",
              "      <td>0.019183</td>\n",
              "      <td>-0.028300</td>\n",
              "      <td>-0.015051</td>\n",
              "    </tr>\n",
              "    <tr>\n",
              "      <th>Annual Income</th>\n",
              "      <td>0.017543</td>\n",
              "      <td>-0.004512</td>\n",
              "      <td>1.000000</td>\n",
              "      <td>0.549013</td>\n",
              "      <td>0.172627</td>\n",
              "      <td>-0.074343</td>\n",
              "      <td>0.136646</td>\n",
              "      <td>-0.016934</td>\n",
              "      <td>0.347657</td>\n",
              "      <td>0.045589</td>\n",
              "      <td>-0.062266</td>\n",
              "      <td>0.058991</td>\n",
              "    </tr>\n",
              "    <tr>\n",
              "      <th>Monthly Debt</th>\n",
              "      <td>-0.002620</td>\n",
              "      <td>-0.082201</td>\n",
              "      <td>0.549013</td>\n",
              "      <td>1.000000</td>\n",
              "      <td>0.175281</td>\n",
              "      <td>-0.058461</td>\n",
              "      <td>0.376494</td>\n",
              "      <td>-0.046203</td>\n",
              "      <td>0.440966</td>\n",
              "      <td>0.038538</td>\n",
              "      <td>-0.074317</td>\n",
              "      <td>0.030203</td>\n",
              "    </tr>\n",
              "    <tr>\n",
              "      <th>Years of Credit History</th>\n",
              "      <td>0.016059</td>\n",
              "      <td>0.068355</td>\n",
              "      <td>0.172627</td>\n",
              "      <td>0.175281</td>\n",
              "      <td>1.000000</td>\n",
              "      <td>-0.043186</td>\n",
              "      <td>0.100001</td>\n",
              "      <td>0.022365</td>\n",
              "      <td>0.204042</td>\n",
              "      <td>0.029919</td>\n",
              "      <td>0.021439</td>\n",
              "      <td>0.010929</td>\n",
              "    </tr>\n",
              "    <tr>\n",
              "      <th>Months since last delinquent</th>\n",
              "      <td>0.012404</td>\n",
              "      <td>0.044032</td>\n",
              "      <td>-0.074343</td>\n",
              "      <td>-0.058461</td>\n",
              "      <td>-0.043186</td>\n",
              "      <td>1.000000</td>\n",
              "      <td>-0.030883</td>\n",
              "      <td>0.099127</td>\n",
              "      <td>-0.026890</td>\n",
              "      <td>-0.006302</td>\n",
              "      <td>0.121035</td>\n",
              "      <td>0.010020</td>\n",
              "    </tr>\n",
              "    <tr>\n",
              "      <th>Number of Open Accounts</th>\n",
              "      <td>0.003097</td>\n",
              "      <td>-0.007643</td>\n",
              "      <td>0.136646</td>\n",
              "      <td>0.376494</td>\n",
              "      <td>0.100001</td>\n",
              "      <td>-0.030883</td>\n",
              "      <td>1.000000</td>\n",
              "      <td>-0.017430</td>\n",
              "      <td>0.224102</td>\n",
              "      <td>0.030206</td>\n",
              "      <td>-0.022869</td>\n",
              "      <td>0.000764</td>\n",
              "    </tr>\n",
              "    <tr>\n",
              "      <th>Number of Credit Problems</th>\n",
              "      <td>-0.000363</td>\n",
              "      <td>-0.040231</td>\n",
              "      <td>-0.016934</td>\n",
              "      <td>-0.046203</td>\n",
              "      <td>0.022365</td>\n",
              "      <td>0.099127</td>\n",
              "      <td>-0.017430</td>\n",
              "      <td>1.000000</td>\n",
              "      <td>-0.108240</td>\n",
              "      <td>-0.011378</td>\n",
              "      <td>0.699446</td>\n",
              "      <td>0.608190</td>\n",
              "    </tr>\n",
              "    <tr>\n",
              "      <th>Current Credit Balance</th>\n",
              "      <td>0.008814</td>\n",
              "      <td>-0.014659</td>\n",
              "      <td>0.347657</td>\n",
              "      <td>0.440966</td>\n",
              "      <td>0.204042</td>\n",
              "      <td>-0.026890</td>\n",
              "      <td>0.224102</td>\n",
              "      <td>-0.108240</td>\n",
              "      <td>1.000000</td>\n",
              "      <td>0.147560</td>\n",
              "      <td>-0.120592</td>\n",
              "      <td>-0.013870</td>\n",
              "    </tr>\n",
              "    <tr>\n",
              "      <th>Maximum Open Credit</th>\n",
              "      <td>-0.001628</td>\n",
              "      <td>0.019183</td>\n",
              "      <td>0.045589</td>\n",
              "      <td>0.038538</td>\n",
              "      <td>0.029919</td>\n",
              "      <td>-0.006302</td>\n",
              "      <td>0.030206</td>\n",
              "      <td>-0.011378</td>\n",
              "      <td>0.147560</td>\n",
              "      <td>1.000000</td>\n",
              "      <td>-0.016032</td>\n",
              "      <td>-0.003080</td>\n",
              "    </tr>\n",
              "    <tr>\n",
              "      <th>Bankruptcies</th>\n",
              "      <td>-0.000469</td>\n",
              "      <td>-0.028300</td>\n",
              "      <td>-0.062266</td>\n",
              "      <td>-0.074317</td>\n",
              "      <td>0.021439</td>\n",
              "      <td>0.121035</td>\n",
              "      <td>-0.022869</td>\n",
              "      <td>0.699446</td>\n",
              "      <td>-0.120592</td>\n",
              "      <td>-0.016032</td>\n",
              "      <td>1.000000</td>\n",
              "      <td>0.037478</td>\n",
              "    </tr>\n",
              "    <tr>\n",
              "      <th>Tax Liens</th>\n",
              "      <td>-0.003754</td>\n",
              "      <td>-0.015051</td>\n",
              "      <td>0.058991</td>\n",
              "      <td>0.030203</td>\n",
              "      <td>0.010929</td>\n",
              "      <td>0.010020</td>\n",
              "      <td>0.000764</td>\n",
              "      <td>0.608190</td>\n",
              "      <td>-0.013870</td>\n",
              "      <td>-0.003080</td>\n",
              "      <td>0.037478</td>\n",
              "      <td>1.000000</td>\n",
              "    </tr>\n",
              "  </tbody>\n",
              "</table>\n",
              "</div>\n",
              "      <button class=\"colab-df-convert\" onclick=\"convertToInteractive('df-02c644eb-11db-4615-9762-be310e4e3d93')\"\n",
              "              title=\"Convert this dataframe to an interactive table.\"\n",
              "              style=\"display:none;\">\n",
              "        \n",
              "  <svg xmlns=\"http://www.w3.org/2000/svg\" height=\"24px\"viewBox=\"0 0 24 24\"\n",
              "       width=\"24px\">\n",
              "    <path d=\"M0 0h24v24H0V0z\" fill=\"none\"/>\n",
              "    <path d=\"M18.56 5.44l.94 2.06.94-2.06 2.06-.94-2.06-.94-.94-2.06-.94 2.06-2.06.94zm-11 1L8.5 8.5l.94-2.06 2.06-.94-2.06-.94L8.5 2.5l-.94 2.06-2.06.94zm10 10l.94 2.06.94-2.06 2.06-.94-2.06-.94-.94-2.06-.94 2.06-2.06.94z\"/><path d=\"M17.41 7.96l-1.37-1.37c-.4-.4-.92-.59-1.43-.59-.52 0-1.04.2-1.43.59L10.3 9.45l-7.72 7.72c-.78.78-.78 2.05 0 2.83L4 21.41c.39.39.9.59 1.41.59.51 0 1.02-.2 1.41-.59l7.78-7.78 2.81-2.81c.8-.78.8-2.07 0-2.86zM5.41 20L4 18.59l7.72-7.72 1.47 1.35L5.41 20z\"/>\n",
              "  </svg>\n",
              "      </button>\n",
              "      \n",
              "  <style>\n",
              "    .colab-df-container {\n",
              "      display:flex;\n",
              "      flex-wrap:wrap;\n",
              "      gap: 12px;\n",
              "    }\n",
              "\n",
              "    .colab-df-convert {\n",
              "      background-color: #E8F0FE;\n",
              "      border: none;\n",
              "      border-radius: 50%;\n",
              "      cursor: pointer;\n",
              "      display: none;\n",
              "      fill: #1967D2;\n",
              "      height: 32px;\n",
              "      padding: 0 0 0 0;\n",
              "      width: 32px;\n",
              "    }\n",
              "\n",
              "    .colab-df-convert:hover {\n",
              "      background-color: #E2EBFA;\n",
              "      box-shadow: 0px 1px 2px rgba(60, 64, 67, 0.3), 0px 1px 3px 1px rgba(60, 64, 67, 0.15);\n",
              "      fill: #174EA6;\n",
              "    }\n",
              "\n",
              "    [theme=dark] .colab-df-convert {\n",
              "      background-color: #3B4455;\n",
              "      fill: #D2E3FC;\n",
              "    }\n",
              "\n",
              "    [theme=dark] .colab-df-convert:hover {\n",
              "      background-color: #434B5C;\n",
              "      box-shadow: 0px 1px 3px 1px rgba(0, 0, 0, 0.15);\n",
              "      filter: drop-shadow(0px 1px 2px rgba(0, 0, 0, 0.3));\n",
              "      fill: #FFFFFF;\n",
              "    }\n",
              "  </style>\n",
              "\n",
              "      <script>\n",
              "        const buttonEl =\n",
              "          document.querySelector('#df-02c644eb-11db-4615-9762-be310e4e3d93 button.colab-df-convert');\n",
              "        buttonEl.style.display =\n",
              "          google.colab.kernel.accessAllowed ? 'block' : 'none';\n",
              "\n",
              "        async function convertToInteractive(key) {\n",
              "          const element = document.querySelector('#df-02c644eb-11db-4615-9762-be310e4e3d93');\n",
              "          const dataTable =\n",
              "            await google.colab.kernel.invokeFunction('convertToInteractive',\n",
              "                                                     [key], {});\n",
              "          if (!dataTable) return;\n",
              "\n",
              "          const docLinkHtml = 'Like what you see? Visit the ' +\n",
              "            '<a target=\"_blank\" href=https://colab.research.google.com/notebooks/data_table.ipynb>data table notebook</a>'\n",
              "            + ' to learn more about interactive tables.';\n",
              "          element.innerHTML = '';\n",
              "          dataTable['output_type'] = 'display_data';\n",
              "          await google.colab.output.renderOutput(dataTable, element);\n",
              "          const docLink = document.createElement('div');\n",
              "          docLink.innerHTML = docLinkHtml;\n",
              "          element.appendChild(docLink);\n",
              "        }\n",
              "      </script>\n",
              "    </div>\n",
              "  </div>\n",
              "  "
            ]
          },
          "metadata": {},
          "execution_count": 11
        }
      ],
      "source": [
        "df_train.corr()"
      ]
    },
    {
      "cell_type": "code",
      "execution_count": null,
      "metadata": {
        "id": "g4UyVESeD3qo",
        "outputId": "3d8c7b50-636d-46a1-f977-b776679ce324",
        "colab": {
          "base_uri": "https://localhost:8080/",
          "height": 432
        }
      },
      "outputs": [
        {
          "output_type": "execute_result",
          "data": {
            "text/plain": [
              "Text(0.5, 1.0, 'correlation matrix')"
            ]
          },
          "metadata": {},
          "execution_count": 12
        },
        {
          "output_type": "display_data",
          "data": {
            "text/plain": [
              "<Figure size 432x288 with 2 Axes>"
            ],
            "image/png": "[encoded data removed]"
          },
          "metadata": {
            "needs_background": "light"
          }
        }
      ],
      "source": [
        "#Heatmap to see the correlation table more visually\n",
        "sns.heatmap(df_train.corr(), square=True, annot=False, linewidths=.5)\n",
        "plt.title(\"correlation matrix\")"
      ]
    },
    {
      "cell_type": "code",
      "execution_count": null,
      "metadata": {
        "colab": {
          "base_uri": "https://localhost:8080/",
          "height": 624
        },
        "id": "KTuPMfXb7ZGH",
        "outputId": "acce4ff0-0de0-4c50-ece5-91348f1d30f3"
      },
      "outputs": [
        {
          "output_type": "execute_result",
          "data": {
            "text/plain": [
              "Text(0.5, 1.0, 'Max Open Credit')"
            ]
          },
          "metadata": {},
          "execution_count": 13
        },
        {
          "output_type": "display_data",
          "data": {
            "text/plain": [
              "<Figure size 1080x720 with 3 Axes>"
            ],
            "image/png": "[encoded data removed]"
          },
          "metadata": {
            "needs_background": "light"
          }
        }
      ],
      "source": [
        "plt.figure(figsize = (15,10))\n",
        "\n",
        "plt.subplot(2,2,1)\n",
        "plt.boxplot(df_train['Current Loan Amount'], whis = 5)\n",
        "plt.title('Current Loan Amount')\n",
        "\n",
        "plt.subplot(2,2,2)\n",
        "plt.boxplot(df_train['Annual Income'], whis = 5)\n",
        "plt.title('Annual Income')\n",
        "\n",
        "\n",
        "plt.subplot(2,2,3)\n",
        "plt.boxplot(df_train['Maximum Open Credit'], whis = 5)\n",
        "plt.title('Max Open Credit')"
      ]
    },
    {
      "cell_type": "code",
      "execution_count": null,
      "metadata": {
        "id": "cBrlIpJi8DhG"
      },
      "outputs": [],
      "source": [
        "from scipy.stats.mstats import winsorize\n",
        "df_train['Windsorzied Loan Amount'] = winsorize(df_train['Current Loan Amount'], (0, 0.05))\n",
        "df_train['Windsorzied Annual Income'] = winsorize(df_train['Annual Income'], (0, 0.05))\n",
        "df_train['Windsorzied Max Credit'] = winsorize(df_train['Maximum Open Credit'], (0, 0.05))"
      ]
    },
    {
      "cell_type": "code",
      "execution_count": null,
      "metadata": {
        "colab": {
          "base_uri": "https://localhost:8080/",
          "height": 624
        },
        "id": "QmixjK_hByCH",
        "outputId": "5a34fb99-80fd-4788-d09c-cb4ac3093063"
      },
      "outputs": [
        {
          "output_type": "execute_result",
          "data": {
            "text/plain": [
              "Text(0.5, 1.0, 'Windsorzied Max Credit')"
            ]
          },
          "metadata": {},
          "execution_count": 15
        },
        {
          "output_type": "display_data",
          "data": {
            "text/plain": [
              "<Figure size 1080x720 with 3 Axes>"
            ],
            "image/png": "[encoded data removed]"
          },
          "metadata": {
            "needs_background": "light"
          }
        }
      ],
      "source": [
        "plt.figure(figsize = (15,10))\n",
        "\n",
        "plt.subplot(2,2,1)\n",
        "plt.boxplot(df_train['Windsorzied Loan Amount'], whis = 5)\n",
        "plt.title('Windsorzied Loan Amount')\n",
        "\n",
        "plt.subplot(2,2,2)\n",
        "plt.boxplot(df_train['Windsorzied Annual Income'], whis = 5)\n",
        "plt.title('Windsorzied Annual Income')\n",
        "\n",
        "plt.subplot(2,2,3)\n",
        "plt.boxplot(df_train['Windsorzied Max Credit'], whis = 5)\n",
        "plt.title('Windsorzied Max Credit')"
      ]
    },
    {
      "cell_type": "code",
      "execution_count": null,
      "metadata": {
        "id": "74cK0FDPD3qp"
      },
      "outputs": [],
      "source": [
        "#After adding windsorized variables, dropping corresponding original variables.\n",
        "df_train.drop(['Current Loan Amount', 'Annual Income', 'Maximum Open Credit'], axis = 1, inplace = True)"
      ]
    },
    {
      "cell_type": "code",
      "execution_count": null,
      "metadata": {
        "scrolled": true,
        "id": "PLnD1N2fD3qp",
        "outputId": "7835625d-8c5b-4c23-af25-b0da496cbcad",
        "colab": {
          "base_uri": "https://localhost:8080/",
          "height": 351
        }
      },
      "outputs": [
        {
          "output_type": "stream",
          "name": "stderr",
          "text": [
            "/usr/local/lib/python3.8/dist-packages/seaborn/_decorators.py:36: FutureWarning: Pass the following variable as a keyword arg: x. From version 0.12, the only valid positional argument will be `data`, and passing other arguments without an explicit keyword will result in an error or misinterpretation.\n",
            "  warnings.warn(\n"
          ]
        },
        {
          "output_type": "execute_result",
          "data": {
            "text/plain": [
              "<matplotlib.axes._subplots.AxesSubplot at 0x7f67d09be850>"
            ]
          },
          "metadata": {},
          "execution_count": 17
        },
        {
          "output_type": "display_data",
          "data": {
            "text/plain": [
              "<Figure size 432x288 with 1 Axes>"
            ],
            "image/png": "[encoded data removed]"
          },
          "metadata": {
            "needs_background": "light"
          }
        }
      ],
      "source": [
        "#Visualization of categorical variables\n",
        "sns.countplot(df_train[\"Loan Status\"])"
      ]
    },
    {
      "cell_type": "code",
      "execution_count": null,
      "metadata": {
        "id": "3IpHkbo7D3qq",
        "outputId": "21610c57-a155-4c50-9a7e-18f44fd6d5a3",
        "colab": {
          "base_uri": "https://localhost:8080/",
          "height": 351
        }
      },
      "outputs": [
        {
          "output_type": "stream",
          "name": "stderr",
          "text": [
            "/usr/local/lib/python3.8/dist-packages/seaborn/_decorators.py:36: FutureWarning: Pass the following variable as a keyword arg: x. From version 0.12, the only valid positional argument will be `data`, and passing other arguments without an explicit keyword will result in an error or misinterpretation.\n",
            "  warnings.warn(\n"
          ]
        },
        {
          "output_type": "execute_result",
          "data": {
            "text/plain": [
              "<matplotlib.axes._subplots.AxesSubplot at 0x7f67d0914340>"
            ]
          },
          "metadata": {},
          "execution_count": 18
        },
        {
          "output_type": "display_data",
          "data": {
            "text/plain": [
              "<Figure size 432x288 with 1 Axes>"
            ],
            "image/png": "[encoded data removed]"
          },
          "metadata": {
            "needs_background": "light"
          }
        }
      ],
      "source": [
        "#Counter plotting Loan Term grouped by Loan Status\n",
        "sns.countplot(df_train[\"Term\"],hue=df_train[\"Loan Status\"])"
      ]
    },
    {
      "cell_type": "markdown",
      "metadata": {
        "id": "KaZNn0BrD3qq"
      },
      "source": [
        "Shor term loans are more paid off compared long term loans."
      ]
    },
    {
      "cell_type": "code",
      "execution_count": null,
      "metadata": {
        "scrolled": true,
        "id": "-EHfu9hiD3qr",
        "outputId": "88c9cd78-69f8-4e29-9bc8-e1ebda3d6a06",
        "colab": {
          "base_uri": "https://localhost:8080/",
          "height": 336
        }
      },
      "outputs": [
        {
          "output_type": "display_data",
          "data": {
            "text/plain": [
              "<Figure size 720x360 with 1 Axes>"
            ],
            "image/png": "[encoded data removed]"
          },
          "metadata": {
            "needs_background": "light"
          }
        }
      ],
      "source": [
        "#Bar chart of Home Onwership to see the percentage of home onwership\n",
        "plt.figure(figsize=(10,5))\n",
        "plt.barh(df_train.groupby(\"Home Ownership\")[\"Home Ownership\"].count().index, \n",
        "        df_train.groupby(\"Home Ownership\")[\"Home Ownership\"].count())\n",
        "plt.title(\"horizontal bar chart of Home Ownership\")\n",
        "\n",
        "plt.show()"
      ]
    },
    {
      "cell_type": "code",
      "execution_count": null,
      "metadata": {
        "scrolled": true,
        "id": "uaPBA4FOD3qr",
        "outputId": "fb7b592e-4137-4183-e5bc-e2303204fdd0",
        "colab": {
          "base_uri": "https://localhost:8080/",
          "height": 514
        }
      },
      "outputs": [
        {
          "output_type": "stream",
          "name": "stderr",
          "text": [
            "/usr/local/lib/python3.8/dist-packages/seaborn/_decorators.py:36: FutureWarning: Pass the following variable as a keyword arg: x. From version 0.12, the only valid positional argument will be `data`, and passing other arguments without an explicit keyword will result in an error or misinterpretation.\n",
            "  warnings.warn(\n"
          ]
        },
        {
          "output_type": "execute_result",
          "data": {
            "text/plain": [
              "<matplotlib.axes._subplots.AxesSubplot at 0x7f67d091d3d0>"
            ]
          },
          "metadata": {},
          "execution_count": 20
        },
        {
          "output_type": "display_data",
          "data": {
            "text/plain": [
              "<Figure size 720x504 with 1 Axes>"
            ],
            "image/png": "[encoded data removed]"
          },
          "metadata": {
            "needs_background": "light"
          }
        }
      ],
      "source": [
        "#bar plot grouped by Years in Current job \n",
        "plt.figure(figsize = (10,7))\n",
        "sns.countplot(df_train['Years in current job'])"
      ]
    },
    {
      "cell_type": "markdown",
      "metadata": {
        "id": "Rvbs647UD3qr"
      },
      "source": [
        "Surprisingly, a large percentage of customer base has been working at their current job 10+ years. "
      ]
    },
    {
      "cell_type": "code",
      "execution_count": null,
      "metadata": {
        "scrolled": true,
        "id": "xuYiPF3uD3qs",
        "outputId": "226d6138-a640-497d-f4d4-0ae786c7aed3",
        "colab": {
          "base_uri": "https://localhost:8080/",
          "height": 405
        }
      },
      "outputs": [
        {
          "output_type": "execute_result",
          "data": {
            "text/plain": [
              "<matplotlib.axes._subplots.AxesSubplot at 0x7f67d0976610>"
            ]
          },
          "metadata": {},
          "execution_count": 21
        },
        {
          "output_type": "display_data",
          "data": {
            "text/plain": [
              "<Figure size 576x432 with 1 Axes>"
            ],
            "image/png": "[encoded data removed]"
          },
          "metadata": {
            "needs_background": "light"
          }
        }
      ],
      "source": [
        "plt.figure(figsize=(8,6))\n",
        "sns.countplot(y='Purpose' , data=df_train, order = df_train['Purpose'].value_counts().index)"
      ]
    },
    {
      "cell_type": "markdown",
      "metadata": {
        "id": "8-nYsLnRD3qs"
      },
      "source": [
        "Majority of loan customers are issuing new loans to consolidate existing loans. "
      ]
    },
    {
      "cell_type": "code",
      "execution_count": null,
      "metadata": {
        "id": "T6hwM1q2D3qs"
      },
      "outputs": [],
      "source": [
        "#Trasforming categorical variables into numerical data by  using get_dummies function. \n",
        "\n",
        "dumm = pd.get_dummies(df_train['Purpose'], prefix=\"Purpose\", drop_first=True)\n",
        "df_train = pd.concat([df_train, dumm], axis=1)\n",
        "\n",
        "dumm = pd.get_dummies(df_train['Home Ownership'], prefix=\"Ownership\", drop_first=True)\n",
        "df_train = pd.concat([df_train, dumm], axis=1)\n",
        "\n",
        "dumm = pd.get_dummies(df_train['Loan Status'], prefix=\"Status\", drop_first=True)\n",
        "df_train = pd.concat([df_train, dumm], axis=1)\n",
        "\n",
        "dumm = pd.get_dummies(df_train['Term'], prefix=\"Term\", drop_first=True)\n",
        "df_train = pd.concat([df_train, dumm], axis=1)\n",
        "\n",
        "dumm = pd.get_dummies(df_train['Years in current job'], prefix=\"Years in current job\", drop_first=True)\n",
        "df_train = pd.concat([df_train, dumm], axis=1)\n",
        "\n",
        "df_train.drop(['Purpose', 'Home Ownership', 'Loan Status', 'Term', 'Years in current job'], axis = 1, inplace = True)"
      ]
    },
    {
      "cell_type": "code",
      "execution_count": null,
      "metadata": {
        "id": "ISlHKHQYD3qs",
        "outputId": "69441cff-f59e-419c-dce3-07f0c76512d4",
        "colab": {
          "base_uri": "https://localhost:8080/",
          "height": 369
        }
      },
      "outputs": [
        {
          "output_type": "execute_result",
          "data": {
            "text/plain": [
              "    Credit Score  Monthly Debt  Years of Credit History  \\\n",
              "2          741.0      29200.53                     14.9   \n",
              "6          730.0      10855.08                     19.6   \n",
              "8          678.0      18660.28                     22.6   \n",
              "10         728.0      11851.06                     16.0   \n",
              "12         740.0      11578.22                      8.5   \n",
              "\n",
              "    Months since last delinquent  Number of Open Accounts  \\\n",
              "2                           29.0                     18.0   \n",
              "6                           10.0                     13.0   \n",
              "8                           33.0                      4.0   \n",
              "10                          76.0                     16.0   \n",
              "12                          25.0                      6.0   \n",
              "\n",
              "    Number of Credit Problems  Current Credit Balance  Bankruptcies  \\\n",
              "2                         1.0                297996.0           0.0   \n",
              "6                         1.0                122170.0           1.0   \n",
              "8                         0.0                437171.0           0.0   \n",
              "10                        0.0                203965.0           0.0   \n",
              "12                        0.0                134083.0           0.0   \n",
              "\n",
              "    Tax Liens  Windsorzied Loan Amount  ...  Years in current job_10+ years  \\\n",
              "2         0.0               99999999.0  ...                               0   \n",
              "6         0.0                 217646.0  ...                               0   \n",
              "8         0.0                 548746.0  ...                               0   \n",
              "10        0.0               99999999.0  ...                               0   \n",
              "12        0.0               99999999.0  ...                               0   \n",
              "\n",
              "    Years in current job_2 years  Years in current job_3 years  \\\n",
              "2                              0                             0   \n",
              "6                              0                             0   \n",
              "8                              1                             0   \n",
              "10                             0                             1   \n",
              "12                             0                             0   \n",
              "\n",
              "    Years in current job_4 years  Years in current job_5 years  \\\n",
              "2                              0                             0   \n",
              "6                              0                             0   \n",
              "8                              0                             0   \n",
              "10                             0                             0   \n",
              "12                             0                             0   \n",
              "\n",
              "    Years in current job_6 years  Years in current job_7 years  \\\n",
              "2                              0                             0   \n",
              "6                              0                             0   \n",
              "8                              0                             0   \n",
              "10                             0                             0   \n",
              "12                             0                             0   \n",
              "\n",
              "    Years in current job_8 years  Years in current job_9 years  \\\n",
              "2                              1                             0   \n",
              "6                              0                             0   \n",
              "8                              0                             0   \n",
              "10                             0                             0   \n",
              "12                             0                             0   \n",
              "\n",
              "    Years in current job_< 1 year  \n",
              "2                               0  \n",
              "6                               1  \n",
              "8                               0  \n",
              "10                              0  \n",
              "12                              1  \n",
              "\n",
              "[5 rows x 42 columns]"
            ],
            "text/html": [
              "\n",
              "  <div id=\"df-82040596-d7bb-4598-bf67-878c6e792702\">\n",
              "    <div class=\"colab-df-container\">\n",
              "      <div>\n",
              "<style scoped>\n",
              "    .dataframe tbody tr th:only-of-type {\n",
              "        vertical-align: middle;\n",
              "    }\n",
              "\n",
              "    .dataframe tbody tr th {\n",
              "        vertical-align: top;\n",
              "    }\n",
              "\n",
              "    .dataframe thead th {\n",
              "        text-align: right;\n",
              "    }\n",
              "</style>\n",
              "<table border=\"1\" class=\"dataframe\">\n",
              "  <thead>\n",
              "    <tr style=\"text-align: right;\">\n",
              "      <th></th>\n",
              "      <th>Credit Score</th>\n",
              "      <th>Monthly Debt</th>\n",
              "      <th>Years of Credit History</th>\n",
              "      <th>Months since last delinquent</th>\n",
              "      <th>Number of Open Accounts</th>\n",
              "      <th>Number of Credit Problems</th>\n",
              "      <th>Current Credit Balance</th>\n",
              "      <th>Bankruptcies</th>\n",
              "      <th>Tax Liens</th>\n",
              "      <th>Windsorzied Loan Amount</th>\n",
              "      <th>...</th>\n",
              "      <th>Years in current job_10+ years</th>\n",
              "      <th>Years in current job_2 years</th>\n",
              "      <th>Years in current job_3 years</th>\n",
              "      <th>Years in current job_4 years</th>\n",
              "      <th>Years in current job_5 years</th>\n",
              "      <th>Years in current job_6 years</th>\n",
              "      <th>Years in current job_7 years</th>\n",
              "      <th>Years in current job_8 years</th>\n",
              "      <th>Years in current job_9 years</th>\n",
              "      <th>Years in current job_&lt; 1 year</th>\n",
              "    </tr>\n",
              "  </thead>\n",
              "  <tbody>\n",
              "    <tr>\n",
              "      <th>2</th>\n",
              "      <td>741.0</td>\n",
              "      <td>29200.53</td>\n",
              "      <td>14.9</td>\n",
              "      <td>29.0</td>\n",
              "      <td>18.0</td>\n",
              "      <td>1.0</td>\n",
              "      <td>297996.0</td>\n",
              "      <td>0.0</td>\n",
              "      <td>0.0</td>\n",
              "      <td>99999999.0</td>\n",
              "      <td>...</td>\n",
              "      <td>0</td>\n",
              "      <td>0</td>\n",
              "      <td>0</td>\n",
              "      <td>0</td>\n",
              "      <td>0</td>\n",
              "      <td>0</td>\n",
              "      <td>0</td>\n",
              "      <td>1</td>\n",
              "      <td>0</td>\n",
              "      <td>0</td>\n",
              "    </tr>\n",
              "    <tr>\n",
              "      <th>6</th>\n",
              "      <td>730.0</td>\n",
              "      <td>10855.08</td>\n",
              "      <td>19.6</td>\n",
              "      <td>10.0</td>\n",
              "      <td>13.0</td>\n",
              "      <td>1.0</td>\n",
              "      <td>122170.0</td>\n",
              "      <td>1.0</td>\n",
              "      <td>0.0</td>\n",
              "      <td>217646.0</td>\n",
              "      <td>...</td>\n",
              "      <td>0</td>\n",
              "      <td>0</td>\n",
              "      <td>0</td>\n",
              "      <td>0</td>\n",
              "      <td>0</td>\n",
              "      <td>0</td>\n",
              "      <td>0</td>\n",
              "      <td>0</td>\n",
              "      <td>0</td>\n",
              "      <td>1</td>\n",
              "    </tr>\n",
              "    <tr>\n",
              "      <th>8</th>\n",
              "      <td>678.0</td>\n",
              "      <td>18660.28</td>\n",
              "      <td>22.6</td>\n",
              "      <td>33.0</td>\n",
              "      <td>4.0</td>\n",
              "      <td>0.0</td>\n",
              "      <td>437171.0</td>\n",
              "      <td>0.0</td>\n",
              "      <td>0.0</td>\n",
              "      <td>548746.0</td>\n",
              "      <td>...</td>\n",
              "      <td>0</td>\n",
              "      <td>1</td>\n",
              "      <td>0</td>\n",
              "      <td>0</td>\n",
              "      <td>0</td>\n",
              "      <td>0</td>\n",
              "      <td>0</td>\n",
              "      <td>0</td>\n",
              "      <td>0</td>\n",
              "      <td>0</td>\n",
              "    </tr>\n",
              "    <tr>\n",
              "      <th>10</th>\n",
              "      <td>728.0</td>\n",
              "      <td>11851.06</td>\n",
              "      <td>16.0</td>\n",
              "      <td>76.0</td>\n",
              "      <td>16.0</td>\n",
              "      <td>0.0</td>\n",
              "      <td>203965.0</td>\n",
              "      <td>0.0</td>\n",
              "      <td>0.0</td>\n",
              "      <td>99999999.0</td>\n",
              "      <td>...</td>\n",
              "      <td>0</td>\n",
              "      <td>0</td>\n",
              "      <td>1</td>\n",
              "      <td>0</td>\n",
              "      <td>0</td>\n",
              "      <td>0</td>\n",
              "      <td>0</td>\n",
              "      <td>0</td>\n",
              "      <td>0</td>\n",
              "      <td>0</td>\n",
              "    </tr>\n",
              "    <tr>\n",
              "      <th>12</th>\n",
              "      <td>740.0</td>\n",
              "      <td>11578.22</td>\n",
              "      <td>8.5</td>\n",
              "      <td>25.0</td>\n",
              "      <td>6.0</td>\n",
              "      <td>0.0</td>\n",
              "      <td>134083.0</td>\n",
              "      <td>0.0</td>\n",
              "      <td>0.0</td>\n",
              "      <td>99999999.0</td>\n",
              "      <td>...</td>\n",
              "      <td>0</td>\n",
              "      <td>0</td>\n",
              "      <td>0</td>\n",
              "      <td>0</td>\n",
              "      <td>0</td>\n",
              "      <td>0</td>\n",
              "      <td>0</td>\n",
              "      <td>0</td>\n",
              "      <td>0</td>\n",
              "      <td>1</td>\n",
              "    </tr>\n",
              "  </tbody>\n",
              "</table>\n",
              "<p>5 rows × 42 columns</p>\n",
              "</div>\n",
              "      <button class=\"colab-df-convert\" onclick=\"convertToInteractive('df-82040596-d7bb-4598-bf67-878c6e792702')\"\n",
              "              title=\"Convert this dataframe to an interactive table.\"\n",
              "              style=\"display:none;\">\n",
              "        \n",
              "  <svg xmlns=\"http://www.w3.org/2000/svg\" height=\"24px\"viewBox=\"0 0 24 24\"\n",
              "       width=\"24px\">\n",
              "    <path d=\"M0 0h24v24H0V0z\" fill=\"none\"/>\n",
              "    <path d=\"M18.56 5.44l.94 2.06.94-2.06 2.06-.94-2.06-.94-.94-2.06-.94 2.06-2.06.94zm-11 1L8.5 8.5l.94-2.06 2.06-.94-2.06-.94L8.5 2.5l-.94 2.06-2.06.94zm10 10l.94 2.06.94-2.06 2.06-.94-2.06-.94-.94-2.06-.94 2.06-2.06.94z\"/><path d=\"M17.41 7.96l-1.37-1.37c-.4-.4-.92-.59-1.43-.59-.52 0-1.04.2-1.43.59L10.3 9.45l-7.72 7.72c-.78.78-.78 2.05 0 2.83L4 21.41c.39.39.9.59 1.41.59.51 0 1.02-.2 1.41-.59l7.78-7.78 2.81-2.81c.8-.78.8-2.07 0-2.86zM5.41 20L4 18.59l7.72-7.72 1.47 1.35L5.41 20z\"/>\n",
              "  </svg>\n",
              "      </button>\n",
              "      \n",
              "  <style>\n",
              "    .colab-df-container {\n",
              "      display:flex;\n",
              "      flex-wrap:wrap;\n",
              "      gap: 12px;\n",
              "    }\n",
              "\n",
              "    .colab-df-convert {\n",
              "      background-color: #E8F0FE;\n",
              "      border: none;\n",
              "      border-radius: 50%;\n",
              "      cursor: pointer;\n",
              "      display: none;\n",
              "      fill: #1967D2;\n",
              "      height: 32px;\n",
              "      padding: 0 0 0 0;\n",
              "      width: 32px;\n",
              "    }\n",
              "\n",
              "    .colab-df-convert:hover {\n",
              "      background-color: #E2EBFA;\n",
              "      box-shadow: 0px 1px 2px rgba(60, 64, 67, 0.3), 0px 1px 3px 1px rgba(60, 64, 67, 0.15);\n",
              "      fill: #174EA6;\n",
              "    }\n",
              "\n",
              "    [theme=dark] .colab-df-convert {\n",
              "      background-color: #3B4455;\n",
              "      fill: #D2E3FC;\n",
              "    }\n",
              "\n",
              "    [theme=dark] .colab-df-convert:hover {\n",
              "      background-color: #434B5C;\n",
              "      box-shadow: 0px 1px 3px 1px rgba(0, 0, 0, 0.15);\n",
              "      filter: drop-shadow(0px 1px 2px rgba(0, 0, 0, 0.3));\n",
              "      fill: #FFFFFF;\n",
              "    }\n",
              "  </style>\n",
              "\n",
              "      <script>\n",
              "        const buttonEl =\n",
              "          document.querySelector('#df-82040596-d7bb-4598-bf67-878c6e792702 button.colab-df-convert');\n",
              "        buttonEl.style.display =\n",
              "          google.colab.kernel.accessAllowed ? 'block' : 'none';\n",
              "\n",
              "        async function convertToInteractive(key) {\n",
              "          const element = document.querySelector('#df-82040596-d7bb-4598-bf67-878c6e792702');\n",
              "          const dataTable =\n",
              "            await google.colab.kernel.invokeFunction('convertToInteractive',\n",
              "                                                     [key], {});\n",
              "          if (!dataTable) return;\n",
              "\n",
              "          const docLinkHtml = 'Like what you see? Visit the ' +\n",
              "            '<a target=\"_blank\" href=https://colab.research.google.com/notebooks/data_table.ipynb>data table notebook</a>'\n",
              "            + ' to learn more about interactive tables.';\n",
              "          element.innerHTML = '';\n",
              "          dataTable['output_type'] = 'display_data';\n",
              "          await google.colab.output.renderOutput(dataTable, element);\n",
              "          const docLink = document.createElement('div');\n",
              "          docLink.innerHTML = docLinkHtml;\n",
              "          element.appendChild(docLink);\n",
              "        }\n",
              "      </script>\n",
              "    </div>\n",
              "  </div>\n",
              "  "
            ]
          },
          "metadata": {},
          "execution_count": 23
        }
      ],
      "source": [
        "df_train.head()"
      ]
    },
    {
      "cell_type": "code",
      "execution_count": null,
      "metadata": {
        "id": "8EaaWlTbD3qs",
        "outputId": "1b947ad6-89e1-4bb0-b792-d02c5aa686f6",
        "colab": {
          "base_uri": "https://localhost:8080/"
        }
      },
      "outputs": [
        {
          "output_type": "stream",
          "name": "stdout",
          "text": [
            "<class 'pandas.core.frame.DataFrame'>\n",
            "Int64Index: 31254 entries, 2 to 99997\n",
            "Data columns (total 42 columns):\n",
            " #   Column                          Non-Null Count  Dtype  \n",
            "---  ------                          --------------  -----  \n",
            " 0   Credit Score                    31254 non-null  float64\n",
            " 1   Monthly Debt                    31254 non-null  float64\n",
            " 2   Years of Credit History         31254 non-null  float64\n",
            " 3   Months since last delinquent    31254 non-null  float64\n",
            " 4   Number of Open Accounts         31254 non-null  float64\n",
            " 5   Number of Credit Problems       31254 non-null  float64\n",
            " 6   Current Credit Balance          31254 non-null  float64\n",
            " 7   Bankruptcies                    31254 non-null  float64\n",
            " 8   Tax Liens                       31254 non-null  float64\n",
            " 9   Windsorzied Loan Amount         31254 non-null  float64\n",
            " 10  Windsorzied Annual Income       31254 non-null  float64\n",
            " 11  Windsorzied Max Credit          31254 non-null  float64\n",
            " 12  Purpose_Buy House               31254 non-null  uint8  \n",
            " 13  Purpose_Buy a Car               31254 non-null  uint8  \n",
            " 14  Purpose_Debt Consolidation      31254 non-null  uint8  \n",
            " 15  Purpose_Educational Expenses    31254 non-null  uint8  \n",
            " 16  Purpose_Home Improvements       31254 non-null  uint8  \n",
            " 17  Purpose_Medical Bills           31254 non-null  uint8  \n",
            " 18  Purpose_Other                   31254 non-null  uint8  \n",
            " 19  Purpose_Take a Trip             31254 non-null  uint8  \n",
            " 20  Purpose_major_purchase          31254 non-null  uint8  \n",
            " 21  Purpose_moving                  31254 non-null  uint8  \n",
            " 22  Purpose_other                   31254 non-null  uint8  \n",
            " 23  Purpose_renewable_energy        31254 non-null  uint8  \n",
            " 24  Purpose_small_business          31254 non-null  uint8  \n",
            " 25  Purpose_vacation                31254 non-null  uint8  \n",
            " 26  Purpose_wedding                 31254 non-null  uint8  \n",
            " 27  Ownership_Home Mortgage         31254 non-null  uint8  \n",
            " 28  Ownership_Own Home              31254 non-null  uint8  \n",
            " 29  Ownership_Rent                  31254 non-null  uint8  \n",
            " 30  Status_Fully Paid               31254 non-null  uint8  \n",
            " 31  Term_Short Term                 31254 non-null  uint8  \n",
            " 32  Years in current job_10+ years  31254 non-null  uint8  \n",
            " 33  Years in current job_2 years    31254 non-null  uint8  \n",
            " 34  Years in current job_3 years    31254 non-null  uint8  \n",
            " 35  Years in current job_4 years    31254 non-null  uint8  \n",
            " 36  Years in current job_5 years    31254 non-null  uint8  \n",
            " 37  Years in current job_6 years    31254 non-null  uint8  \n",
            " 38  Years in current job_7 years    31254 non-null  uint8  \n",
            " 39  Years in current job_8 years    31254 non-null  uint8  \n",
            " 40  Years in current job_9 years    31254 non-null  uint8  \n",
            " 41  Years in current job_< 1 year   31254 non-null  uint8  \n",
            "dtypes: float64(12), uint8(30)\n",
            "memory usage: 5.0 MB\n"
          ]
        }
      ],
      "source": [
        "df_train.info()"
      ]
    },
    {
      "cell_type": "code",
      "execution_count": null,
      "metadata": {
        "id": "6jauxmEyQSXw"
      },
      "outputs": [],
      "source": [
        "from sklearn.model_selection import train_test_split\n",
        "\n",
        "Y = df_train['Bankruptcies']\n",
        "X = df_train.loc[:, ~df_train.columns.isin(['Bankruptcies'])]\n",
        "\n",
        "X_train, X_test, y_train, y_test = train_test_split(X, Y, test_size=0.33, random_state=42)"
      ]
    },
    {
      "cell_type": "markdown",
      "metadata": {
        "id": "2zJkmwlSD3qt"
      },
      "source": [
        "The target value is bankrupcies and variables are credit score, monthly debt, purpose, current credit balance, years in current job, etc. Using the variables, I would like to build a model to train and predict whether the customer would likely to file bankrupcy. "
      ]
    },
    {
      "cell_type": "code",
      "execution_count": null,
      "metadata": {
        "colab": {
          "base_uri": "https://localhost:8080/",
          "height": 1000
        },
        "id": "rHGbzOPULN22",
        "outputId": "08ecde75-a796-42d4-b38a-4ec920ade655"
      },
      "outputs": [
        {
          "output_type": "stream",
          "name": "stderr",
          "text": [
            "/usr/local/lib/python3.8/dist-packages/statsmodels/tsa/tsatools.py:142: FutureWarning: In a future version of pandas all arguments of concat except for the argument 'objs' will be keyword-only\n",
            "  x = pd.concat(x[::order], 1)\n"
          ]
        },
        {
          "output_type": "execute_result",
          "data": {
            "text/plain": [
              "<class 'statsmodels.iolib.summary.Summary'>\n",
              "\"\"\"\n",
              "                            OLS Regression Results                            \n",
              "==============================================================================\n",
              "Dep. Variable:           Bankruptcies   R-squared:                       0.721\n",
              "Model:                            OLS   Adj. R-squared:                  0.720\n",
              "Method:                 Least Squares   F-statistic:                     1315.\n",
              "Date:                Tue, 06 Dec 2022   Prob (F-statistic):               0.00\n",
              "Time:                        15:56:42   Log-Likelihood:                 5203.2\n",
              "No. Observations:               20940   AIC:                        -1.032e+04\n",
              "Df Residuals:                   20898   BIC:                            -9989.\n",
              "Df Model:                          41                                         \n",
              "Covariance Type:            nonrobust                                         \n",
              "==================================================================================================\n",
              "                                     coef    std err          t      P>|t|      [0.025      0.975]\n",
              "--------------------------------------------------------------------------------------------------\n",
              "const                             -0.0869      0.056     -1.565      0.118      -0.196       0.022\n",
              "Credit Score                    9.628e-05   5.78e-05      1.667      0.096    -1.7e-05       0.000\n",
              "Monthly Debt                    1.593e-07   1.52e-07      1.051      0.293   -1.38e-07    4.56e-07\n",
              "Years of Credit History            0.0006      0.000      2.823      0.005       0.000       0.001\n",
              "Months since last delinquent       0.0003   6.07e-05      4.340      0.000       0.000       0.000\n",
              "Number of Open Accounts            0.0001      0.000      0.339      0.735      -0.001       0.001\n",
              "Number of Credit Problems          0.7160      0.003    224.809      0.000       0.710       0.722\n",
              "Current Credit Balance         -1.091e-08   5.65e-09     -1.931      0.054    -2.2e-08    1.65e-10\n",
              "Tax Liens                         -0.7203      0.005   -134.958      0.000      -0.731      -0.710\n",
              "Windsorzied Loan Amount        -3.797e-11   3.72e-11     -1.021      0.307   -1.11e-10    3.49e-11\n",
              "Windsorzied Annual Income      -5.413e-09   2.69e-09     -2.012      0.044   -1.07e-08   -1.39e-10\n",
              "Windsorzied Max Credit         -7.968e-09   5.35e-09     -1.489      0.137   -1.85e-08    2.52e-09\n",
              "Purpose_Buy House                  0.0164      0.019      0.872      0.383      -0.020       0.053\n",
              "Purpose_Buy a Car                 -0.0077      0.016     -0.481      0.630      -0.039       0.024\n",
              "Purpose_Debt Consolidation         0.0197      0.011      1.838      0.066      -0.001       0.041\n",
              "Purpose_Educational Expenses      -0.0284      0.044     -0.652      0.514      -0.114       0.057\n",
              "Purpose_Home Improvements          0.0219      0.012      1.854      0.064      -0.001       0.045\n",
              "Purpose_Medical Bills              0.0134      0.016      0.815      0.415      -0.019       0.046\n",
              "Purpose_Other                      0.0024      0.013      0.185      0.853      -0.023       0.028\n",
              "Purpose_Take a Trip                0.0120      0.024      0.494      0.621      -0.036       0.060\n",
              "Purpose_major_purchase             0.0287      0.025      1.164      0.245      -0.020       0.077\n",
              "Purpose_moving                     0.0043      0.034      0.125      0.901      -0.063       0.071\n",
              "Purpose_other                      0.0053      0.012      0.452      0.651      -0.018       0.028\n",
              "Purpose_renewable_energy          -0.0120      0.189     -0.063      0.950      -0.383       0.359\n",
              "Purpose_small_business             0.0297      0.026      1.164      0.244      -0.020       0.080\n",
              "Purpose_vacation                  -0.1780      0.042     -4.270      0.000      -0.260      -0.096\n",
              "Purpose_wedding                    0.0097      0.041      0.238      0.812      -0.070       0.090\n",
              "Ownership_Home Mortgage           -0.0072      0.038     -0.190      0.849      -0.081       0.067\n",
              "Ownership_Own Home                -0.0059      0.038     -0.155      0.877      -0.080       0.068\n",
              "Ownership_Rent                     0.0026      0.038      0.069      0.945      -0.071       0.076\n",
              "Status_Fully Paid                  0.0036      0.003      1.116      0.264      -0.003       0.010\n",
              "Term_Short Term                   -0.0025      0.003     -0.721      0.471      -0.009       0.004\n",
              "Years in current job_10+ years     0.0036      0.006      0.629      0.530      -0.008       0.015\n",
              "Years in current job_2 years       0.0015      0.007      0.218      0.828      -0.012       0.015\n",
              "Years in current job_3 years      -0.0013      0.007     -0.184      0.854      -0.015       0.012\n",
              "Years in current job_4 years      -0.0059      0.007     -0.795      0.427      -0.020       0.009\n",
              "Years in current job_5 years       0.0029      0.007      0.401      0.688      -0.011       0.017\n",
              "Years in current job_6 years      -0.0007      0.008     -0.099      0.921      -0.016       0.014\n",
              "Years in current job_7 years       0.0102      0.008      1.343      0.179      -0.005       0.025\n",
              "Years in current job_8 years      -0.0025      0.008     -0.318      0.751      -0.018       0.013\n",
              "Years in current job_9 years       0.0039      0.008      0.467      0.641      -0.013       0.020\n",
              "Years in current job_< 1 year     -0.0066      0.007     -0.928      0.353      -0.020       0.007\n",
              "==============================================================================\n",
              "Omnibus:                    21798.204   Durbin-Watson:                   2.009\n",
              "Prob(Omnibus):                  0.000   Jarque-Bera (JB):          3251172.167\n",
              "Skew:                          -4.917   Prob(JB):                         0.00\n",
              "Kurtosis:                      63.246   Cond. No.                     5.76e+09\n",
              "==============================================================================\n",
              "\n",
              "Notes:\n",
              "[1] Standard Errors assume that the covariance matrix of the errors is correctly specified.\n",
              "[2] The condition number is large, 5.76e+09. This might indicate that there are\n",
              "strong multicollinearity or other numerical problems.\n",
              "\"\"\""
            ],
            "text/html": [
              "<table class=\"simpletable\">\n",
              "<caption>OLS Regression Results</caption>\n",
              "<tr>\n",
              "  <th>Dep. Variable:</th>      <td>Bankruptcies</td>   <th>  R-squared:         </th>  <td>   0.721</td> \n",
              "</tr>\n",
              "<tr>\n",
              "  <th>Model:</th>                   <td>OLS</td>       <th>  Adj. R-squared:    </th>  <td>   0.720</td> \n",
              "</tr>\n",
              "<tr>\n",
              "  <th>Method:</th>             <td>Least Squares</td>  <th>  F-statistic:       </th>  <td>   1315.</td> \n",
              "</tr>\n",
              "<tr>\n",
              "  <th>Date:</th>             <td>Tue, 06 Dec 2022</td> <th>  Prob (F-statistic):</th>   <td>  0.00</td>  \n",
              "</tr>\n",
              "<tr>\n",
              "  <th>Time:</th>                 <td>15:56:42</td>     <th>  Log-Likelihood:    </th>  <td>  5203.2</td> \n",
              "</tr>\n",
              "<tr>\n",
              "  <th>No. Observations:</th>      <td> 20940</td>      <th>  AIC:               </th> <td>-1.032e+04</td>\n",
              "</tr>\n",
              "<tr>\n",
              "  <th>Df Residuals:</th>          <td> 20898</td>      <th>  BIC:               </th>  <td>  -9989.</td> \n",
              "</tr>\n",
              "<tr>\n",
              "  <th>Df Model:</th>              <td>    41</td>      <th>                     </th>      <td> </td>    \n",
              "</tr>\n",
              "<tr>\n",
              "  <th>Covariance Type:</th>      <td>nonrobust</td>    <th>                     </th>      <td> </td>    \n",
              "</tr>\n",
              "</table>\n",
              "<table class=\"simpletable\">\n",
              "<tr>\n",
              "                 <td></td>                   <th>coef</th>     <th>std err</th>      <th>t</th>      <th>P>|t|</th>  <th>[0.025</th>    <th>0.975]</th>  \n",
              "</tr>\n",
              "<tr>\n",
              "  <th>const</th>                          <td>   -0.0869</td> <td>    0.056</td> <td>   -1.565</td> <td> 0.118</td> <td>   -0.196</td> <td>    0.022</td>\n",
              "</tr>\n",
              "<tr>\n",
              "  <th>Credit Score</th>                   <td> 9.628e-05</td> <td> 5.78e-05</td> <td>    1.667</td> <td> 0.096</td> <td> -1.7e-05</td> <td>    0.000</td>\n",
              "</tr>\n",
              "<tr>\n",
              "  <th>Monthly Debt</th>                   <td> 1.593e-07</td> <td> 1.52e-07</td> <td>    1.051</td> <td> 0.293</td> <td>-1.38e-07</td> <td> 4.56e-07</td>\n",
              "</tr>\n",
              "<tr>\n",
              "  <th>Years of Credit History</th>        <td>    0.0006</td> <td>    0.000</td> <td>    2.823</td> <td> 0.005</td> <td>    0.000</td> <td>    0.001</td>\n",
              "</tr>\n",
              "<tr>\n",
              "  <th>Months since last delinquent</th>   <td>    0.0003</td> <td> 6.07e-05</td> <td>    4.340</td> <td> 0.000</td> <td>    0.000</td> <td>    0.000</td>\n",
              "</tr>\n",
              "<tr>\n",
              "  <th>Number of Open Accounts</th>        <td>    0.0001</td> <td>    0.000</td> <td>    0.339</td> <td> 0.735</td> <td>   -0.001</td> <td>    0.001</td>\n",
              "</tr>\n",
              "<tr>\n",
              "  <th>Number of Credit Problems</th>      <td>    0.7160</td> <td>    0.003</td> <td>  224.809</td> <td> 0.000</td> <td>    0.710</td> <td>    0.722</td>\n",
              "</tr>\n",
              "<tr>\n",
              "  <th>Current Credit Balance</th>         <td>-1.091e-08</td> <td> 5.65e-09</td> <td>   -1.931</td> <td> 0.054</td> <td> -2.2e-08</td> <td> 1.65e-10</td>\n",
              "</tr>\n",
              "<tr>\n",
              "  <th>Tax Liens</th>                      <td>   -0.7203</td> <td>    0.005</td> <td> -134.958</td> <td> 0.000</td> <td>   -0.731</td> <td>   -0.710</td>\n",
              "</tr>\n",
              "<tr>\n",
              "  <th>Windsorzied Loan Amount</th>        <td>-3.797e-11</td> <td> 3.72e-11</td> <td>   -1.021</td> <td> 0.307</td> <td>-1.11e-10</td> <td> 3.49e-11</td>\n",
              "</tr>\n",
              "<tr>\n",
              "  <th>Windsorzied Annual Income</th>      <td>-5.413e-09</td> <td> 2.69e-09</td> <td>   -2.012</td> <td> 0.044</td> <td>-1.07e-08</td> <td>-1.39e-10</td>\n",
              "</tr>\n",
              "<tr>\n",
              "  <th>Windsorzied Max Credit</th>         <td>-7.968e-09</td> <td> 5.35e-09</td> <td>   -1.489</td> <td> 0.137</td> <td>-1.85e-08</td> <td> 2.52e-09</td>\n",
              "</tr>\n",
              "<tr>\n",
              "  <th>Purpose_Buy House</th>              <td>    0.0164</td> <td>    0.019</td> <td>    0.872</td> <td> 0.383</td> <td>   -0.020</td> <td>    0.053</td>\n",
              "</tr>\n",
              "<tr>\n",
              "  <th>Purpose_Buy a Car</th>              <td>   -0.0077</td> <td>    0.016</td> <td>   -0.481</td> <td> 0.630</td> <td>   -0.039</td> <td>    0.024</td>\n",
              "</tr>\n",
              "<tr>\n",
              "  <th>Purpose_Debt Consolidation</th>     <td>    0.0197</td> <td>    0.011</td> <td>    1.838</td> <td> 0.066</td> <td>   -0.001</td> <td>    0.041</td>\n",
              "</tr>\n",
              "<tr>\n",
              "  <th>Purpose_Educational Expenses</th>   <td>   -0.0284</td> <td>    0.044</td> <td>   -0.652</td> <td> 0.514</td> <td>   -0.114</td> <td>    0.057</td>\n",
              "</tr>\n",
              "<tr>\n",
              "  <th>Purpose_Home Improvements</th>      <td>    0.0219</td> <td>    0.012</td> <td>    1.854</td> <td> 0.064</td> <td>   -0.001</td> <td>    0.045</td>\n",
              "</tr>\n",
              "<tr>\n",
              "  <th>Purpose_Medical Bills</th>          <td>    0.0134</td> <td>    0.016</td> <td>    0.815</td> <td> 0.415</td> <td>   -0.019</td> <td>    0.046</td>\n",
              "</tr>\n",
              "<tr>\n",
              "  <th>Purpose_Other</th>                  <td>    0.0024</td> <td>    0.013</td> <td>    0.185</td> <td> 0.853</td> <td>   -0.023</td> <td>    0.028</td>\n",
              "</tr>\n",
              "<tr>\n",
              "  <th>Purpose_Take a Trip</th>            <td>    0.0120</td> <td>    0.024</td> <td>    0.494</td> <td> 0.621</td> <td>   -0.036</td> <td>    0.060</td>\n",
              "</tr>\n",
              "<tr>\n",
              "  <th>Purpose_major_purchase</th>         <td>    0.0287</td> <td>    0.025</td> <td>    1.164</td> <td> 0.245</td> <td>   -0.020</td> <td>    0.077</td>\n",
              "</tr>\n",
              "<tr>\n",
              "  <th>Purpose_moving</th>                 <td>    0.0043</td> <td>    0.034</td> <td>    0.125</td> <td> 0.901</td> <td>   -0.063</td> <td>    0.071</td>\n",
              "</tr>\n",
              "<tr>\n",
              "  <th>Purpose_other</th>                  <td>    0.0053</td> <td>    0.012</td> <td>    0.452</td> <td> 0.651</td> <td>   -0.018</td> <td>    0.028</td>\n",
              "</tr>\n",
              "<tr>\n",
              "  <th>Purpose_renewable_energy</th>       <td>   -0.0120</td> <td>    0.189</td> <td>   -0.063</td> <td> 0.950</td> <td>   -0.383</td> <td>    0.359</td>\n",
              "</tr>\n",
              "<tr>\n",
              "  <th>Purpose_small_business</th>         <td>    0.0297</td> <td>    0.026</td> <td>    1.164</td> <td> 0.244</td> <td>   -0.020</td> <td>    0.080</td>\n",
              "</tr>\n",
              "<tr>\n",
              "  <th>Purpose_vacation</th>               <td>   -0.1780</td> <td>    0.042</td> <td>   -4.270</td> <td> 0.000</td> <td>   -0.260</td> <td>   -0.096</td>\n",
              "</tr>\n",
              "<tr>\n",
              "  <th>Purpose_wedding</th>                <td>    0.0097</td> <td>    0.041</td> <td>    0.238</td> <td> 0.812</td> <td>   -0.070</td> <td>    0.090</td>\n",
              "</tr>\n",
              "<tr>\n",
              "  <th>Ownership_Home Mortgage</th>        <td>   -0.0072</td> <td>    0.038</td> <td>   -0.190</td> <td> 0.849</td> <td>   -0.081</td> <td>    0.067</td>\n",
              "</tr>\n",
              "<tr>\n",
              "  <th>Ownership_Own Home</th>             <td>   -0.0059</td> <td>    0.038</td> <td>   -0.155</td> <td> 0.877</td> <td>   -0.080</td> <td>    0.068</td>\n",
              "</tr>\n",
              "<tr>\n",
              "  <th>Ownership_Rent</th>                 <td>    0.0026</td> <td>    0.038</td> <td>    0.069</td> <td> 0.945</td> <td>   -0.071</td> <td>    0.076</td>\n",
              "</tr>\n",
              "<tr>\n",
              "  <th>Status_Fully Paid</th>              <td>    0.0036</td> <td>    0.003</td> <td>    1.116</td> <td> 0.264</td> <td>   -0.003</td> <td>    0.010</td>\n",
              "</tr>\n",
              "<tr>\n",
              "  <th>Term_Short Term</th>                <td>   -0.0025</td> <td>    0.003</td> <td>   -0.721</td> <td> 0.471</td> <td>   -0.009</td> <td>    0.004</td>\n",
              "</tr>\n",
              "<tr>\n",
              "  <th>Years in current job_10+ years</th> <td>    0.0036</td> <td>    0.006</td> <td>    0.629</td> <td> 0.530</td> <td>   -0.008</td> <td>    0.015</td>\n",
              "</tr>\n",
              "<tr>\n",
              "  <th>Years in current job_2 years</th>   <td>    0.0015</td> <td>    0.007</td> <td>    0.218</td> <td> 0.828</td> <td>   -0.012</td> <td>    0.015</td>\n",
              "</tr>\n",
              "<tr>\n",
              "  <th>Years in current job_3 years</th>   <td>   -0.0013</td> <td>    0.007</td> <td>   -0.184</td> <td> 0.854</td> <td>   -0.015</td> <td>    0.012</td>\n",
              "</tr>\n",
              "<tr>\n",
              "  <th>Years in current job_4 years</th>   <td>   -0.0059</td> <td>    0.007</td> <td>   -0.795</td> <td> 0.427</td> <td>   -0.020</td> <td>    0.009</td>\n",
              "</tr>\n",
              "<tr>\n",
              "  <th>Years in current job_5 years</th>   <td>    0.0029</td> <td>    0.007</td> <td>    0.401</td> <td> 0.688</td> <td>   -0.011</td> <td>    0.017</td>\n",
              "</tr>\n",
              "<tr>\n",
              "  <th>Years in current job_6 years</th>   <td>   -0.0007</td> <td>    0.008</td> <td>   -0.099</td> <td> 0.921</td> <td>   -0.016</td> <td>    0.014</td>\n",
              "</tr>\n",
              "<tr>\n",
              "  <th>Years in current job_7 years</th>   <td>    0.0102</td> <td>    0.008</td> <td>    1.343</td> <td> 0.179</td> <td>   -0.005</td> <td>    0.025</td>\n",
              "</tr>\n",
              "<tr>\n",
              "  <th>Years in current job_8 years</th>   <td>   -0.0025</td> <td>    0.008</td> <td>   -0.318</td> <td> 0.751</td> <td>   -0.018</td> <td>    0.013</td>\n",
              "</tr>\n",
              "<tr>\n",
              "  <th>Years in current job_9 years</th>   <td>    0.0039</td> <td>    0.008</td> <td>    0.467</td> <td> 0.641</td> <td>   -0.013</td> <td>    0.020</td>\n",
              "</tr>\n",
              "<tr>\n",
              "  <th>Years in current job_< 1 year</th>  <td>   -0.0066</td> <td>    0.007</td> <td>   -0.928</td> <td> 0.353</td> <td>   -0.020</td> <td>    0.007</td>\n",
              "</tr>\n",
              "</table>\n",
              "<table class=\"simpletable\">\n",
              "<tr>\n",
              "  <th>Omnibus:</th>       <td>21798.204</td> <th>  Durbin-Watson:     </th>  <td>   2.009</td>  \n",
              "</tr>\n",
              "<tr>\n",
              "  <th>Prob(Omnibus):</th>  <td> 0.000</td>   <th>  Jarque-Bera (JB):  </th> <td>3251172.167</td>\n",
              "</tr>\n",
              "<tr>\n",
              "  <th>Skew:</th>           <td>-4.917</td>   <th>  Prob(JB):          </th>  <td>    0.00</td>  \n",
              "</tr>\n",
              "<tr>\n",
              "  <th>Kurtosis:</th>       <td>63.246</td>   <th>  Cond. No.          </th>  <td>5.76e+09</td>  \n",
              "</tr>\n",
              "</table><br/><br/>Notes:<br/>[1] Standard Errors assume that the covariance matrix of the errors is correctly specified.<br/>[2] The condition number is large, 5.76e+09. This might indicate that there are<br/>strong multicollinearity or other numerical problems."
            ]
          },
          "metadata": {},
          "execution_count": 26
        }
      ],
      "source": [
        "import statsmodels.api as sm\n",
        "X_ols = sm.add_constant(X_train)\n",
        "\n",
        "results = sm.OLS(y_train, X_ols).fit()\n",
        "\n",
        "results.summary()"
      ]
    },
    {
      "cell_type": "markdown",
      "metadata": {
        "id": "MVAfnB1xD3qt"
      },
      "source": [
        "For the first machine learning model, Ordinary Least Squares has been utilized to train and build a model. A favorable results has been came out: the model's r-squared is 0.721 with adjusted r-squared of 0.720 and F-statistics of 1315. "
      ]
    },
    {
      "cell_type": "code",
      "execution_count": null,
      "metadata": {
        "id": "KX-H8GAcNEA7"
      },
      "outputs": [],
      "source": [
        "from sklearn.model_selection import cross_val_score"
      ]
    },
    {
      "cell_type": "code",
      "execution_count": null,
      "metadata": {
        "colab": {
          "base_uri": "https://localhost:8080/"
        },
        "id": "MNtLrVYdN2LD",
        "outputId": "08d058ce-5433-4cbb-d169-81d05d0412de",
        "scrolled": true
      },
      "outputs": [
        {
          "output_type": "stream",
          "name": "stdout",
          "text": [
            "[0.89578284 0.89578284 0.89578284 0.89529811 0.8957323 ]\n",
            "\n",
            "Total time to read in raw data: 0.22 seconds.\n"
          ]
        },
        {
          "output_type": "stream",
          "name": "stderr",
          "text": [
            "/usr/local/lib/python3.8/dist-packages/sklearn/model_selection/_split.py:676: UserWarning: The least populated class in y has only 1 members, which is less than n_splits=5.\n",
            "  warnings.warn(\n"
          ]
        }
      ],
      "source": [
        "from sklearn import tree\n",
        "import time\n",
        "\n",
        "start = time.time()\n",
        "\n",
        "decision_tree = tree.DecisionTreeClassifier(\n",
        "    criterion='entropy',\n",
        "    max_features=1,\n",
        "    max_depth=4,\n",
        "    random_state = 1337\n",
        ")\n",
        "decision_tree.fit(X_train, y_train)\n",
        "\n",
        "print(f'{cross_val_score(decision_tree, X_test, y_test, cv=5)}\\n')\n",
        "\n",
        "print(f'Total time to read in raw data: {round(time.time() - start, 2)} seconds.')"
      ]
    },
    {
      "cell_type": "markdown",
      "metadata": {
        "id": "GIREL1NAD3qt"
      },
      "source": [
        "For the second model, Decision Tree method has been used to train the model. For the paramters, criterion of entropy, maximum feature of 1, maximum depth of 4, and random state of 1337 were used. The result has been also came out very accurate with about 89.5% accuracies with very fast speed to train the model."
      ]
    },
    {
      "cell_type": "code",
      "execution_count": null,
      "metadata": {
        "id": "aPDkymahPWLU",
        "scrolled": true,
        "outputId": "aac23f71-c810-4e1e-bda0-ed8c53567c20",
        "colab": {
          "base_uri": "https://localhost:8080/"
        }
      },
      "outputs": [
        {
          "output_type": "stream",
          "name": "stderr",
          "text": [
            "/usr/local/lib/python3.8/dist-packages/sklearn/model_selection/_split.py:676: UserWarning: The least populated class in y has only 1 members, which is less than n_splits=5.\n",
            "  warnings.warn(\n"
          ]
        },
        {
          "output_type": "stream",
          "name": "stdout",
          "text": [
            "[0.95346583 0.9529811  0.94425594 0.95443529 0.95974782]\n",
            "\n",
            "Total time to read in raw data: 2.38 seconds.\n"
          ]
        }
      ],
      "source": [
        "start = time.time()\n",
        "\n",
        "rfc = ensemble.RandomForestClassifier(n_estimators=5, n_jobs=-1)\n",
        "rfc.fit(X_train, y_train)\n",
        "\n",
        "predict_train_rfc = rfc.predict(X_train)\n",
        "predict_test_rfc = rfc.predict(X_test)\n",
        "\n",
        "print(f'{cross_val_score(rfc, X_test, y_test, cv=5)}\\n')\n",
        "\n",
        "print(f'Total time to read in raw data: {round(time.time() - start, 2)} seconds.')"
      ]
    },
    {
      "cell_type": "code",
      "execution_count": null,
      "metadata": {
        "id": "uB3ITahPD3qu"
      },
      "outputs": [],
      "source": [
        "def plot_confusion_matrix(cm,\n",
        "                          target_names,\n",
        "                          title='Confusion matrix',\n",
        "                          cmap=None,\n",
        "                          normalize=True):\n",
        "    \"\"\"\n",
        "    Given a scikit-learn confusion matrix (CM), make a nice plot.\n",
        "\n",
        "    Arguments\n",
        "    ---------\n",
        "    cm:           Confusion matrix from sklearn.metrics.confusion_matrix\n",
        "\n",
        "    target_names: Given classification classes, such as [0, 1, 2]\n",
        "                  The class names, for example, ['high', 'medium', 'low']\n",
        "\n",
        "    title:        The text to display at the top of the matrix\n",
        "\n",
        "    cmap:         The gradient of the values displayed from matplotlib.pyplot.cm\n",
        "                  See http://matplotlib.org/examples/color/colormaps_reference.html\n",
        "                  `plt.get_cmap('jet')` or `plt.cm.Blues`\n",
        "\n",
        "    normalize:    If `False`, plot the raw numbers\n",
        "                  If `True`, plot the proportions\n",
        "\n",
        "    Usage\n",
        "    -----\n",
        "    plot_confusion_matrix(cm           = cm,                  # Confusion matrix created by\n",
        "                                                              # `sklearn.metrics.confusion_matrix`\n",
        "                          normalize    = True,                # Show proportions\n",
        "                          target_names = y_labels_vals,       # List of names of the classes\n",
        "                          title        = best_estimator_name) # Title of graph\n",
        "\n",
        "    Citation\n",
        "    ---------\n",
        "    http://scikit-learn.org/stable/auto_examples/model_selection/plot_confusion_matrix.html\n",
        "\n",
        "    \"\"\"\n",
        "    import matplotlib.pyplot as plt\n",
        "    import numpy as np\n",
        "    import itertools\n",
        "\n",
        "    accuracy = np.trace(cm) / float(np.sum(cm))\n",
        "    misclass = 1 - accuracy\n",
        "\n",
        "    if cmap is None:\n",
        "        cmap = plt.get_cmap('Blues')\n",
        "\n",
        "    plt.figure(figsize=(8, 6))\n",
        "    plt.imshow(cm, interpolation='nearest', cmap=cmap)\n",
        "    plt.title(title)\n",
        "    plt.colorbar()\n",
        "\n",
        "    if target_names is not None:\n",
        "        tick_marks = np.arange(len(target_names))\n",
        "        plt.xticks(tick_marks, target_names, rotation=45)\n",
        "        plt.yticks(tick_marks, target_names)\n",
        "\n",
        "    if normalize:\n",
        "        cm = cm.astype('float') / cm.sum(axis=1)[:, np.newaxis]\n",
        "\n",
        "\n",
        "    thresh = cm.max() / 1.5 if normalize else cm.max() / 2\n",
        "    for i, j in itertools.product(range(cm.shape[0]), range(cm.shape[1])):\n",
        "        if normalize:\n",
        "            plt.text(j, i, \"{:0.4f}\".format(cm[i, j]),\n",
        "                     horizontalalignment=\"center\",\n",
        "                     color=\"white\" if cm[i, j] > thresh else \"black\")\n",
        "        else:\n",
        "            plt.text(j, i, \"{:,}\".format(cm[i, j]),\n",
        "                     horizontalalignment=\"center\",\n",
        "                     color=\"white\" if cm[i, j] > thresh else \"black\")\n",
        "\n",
        "\n",
        "    plt.tight_layout()\n",
        "    plt.ylabel('True label')\n",
        "    plt.xlabel('Predicted label\\naccuracy={:0.4f}; misclass={:0.4f}'.format(accuracy, misclass))\n",
        "    plt.show()"
      ]
    },
    {
      "cell_type": "markdown",
      "metadata": {
        "id": "VWLdjKaAD3qu"
      },
      "source": [
        "For the third model, Random Forest method has been used to train and build another model. Although, it took longer time to process the data, the results noticeably improved to accuracies about 96%."
      ]
    },
    {
      "cell_type": "code",
      "execution_count": null,
      "metadata": {
        "id": "GiOwmC7_RwUR"
      },
      "outputs": [],
      "source": [
        "#import pydotplus\n",
        "#import graphviz"
      ]
    },
    {
      "cell_type": "code",
      "execution_count": null,
      "metadata": {
        "id": "EVHsnV18D3qu",
        "outputId": "abdadbe1-b541-446f-976d-d442bb846cb1",
        "colab": {
          "base_uri": "https://localhost:8080/"
        }
      },
      "outputs": [
        {
          "output_type": "stream",
          "name": "stdout",
          "text": [
            "0.9705254993213108\n",
            "Total time to read in raw data: 35.21 seconds.\n"
          ]
        }
      ],
      "source": [
        "start = time.time()\n",
        "\n",
        "params = {'n_estimators': 100,\n",
        "          'max_depth': 2,\n",
        "          'loss': 'deviance'}\n",
        "\n",
        "# Initialize and fit the model.\n",
        "clf = ensemble.GradientBoostingClassifier(**params)\n",
        "clf.fit(X_train, y_train)\n",
        "\n",
        "predict_train = clf.predict(X_train)\n",
        "predict_test = clf.predict(X_test)\n",
        "\n",
        "gb_score = clf.score(X_test, y_test)\n",
        "\n",
        "print(gb_score)\n",
        "print(f'Total time to read in raw data: {round(time.time() - start, 2)} seconds.')"
      ]
    },
    {
      "cell_type": "markdown",
      "metadata": {
        "id": "m4Lh2obBD3qu"
      },
      "source": [
        "For the fourth and the last model, Gradient Boosting method has been implemented to train the data. For the parameters of the model, number of estimators of 100, maximum depth of 2, and loss of deviance have been used. The time it spent on training and building the model has been evidently increased. However, the accuracy has been slightly improved to 97.1%. Several different parameters have been tested, but above parameter displayed the best result."
      ]
    },
    {
      "cell_type": "code",
      "source": [
        "#Confusion matrix to display the accuracies of predictions visually.\n",
        "#Consution Matrix for Random Forest\n",
        "confusion = confusion_matrix(y_test, predict_test_rfc, labels=[0, 1])\n",
        "plot_confusion_matrix(cm=confusion, target_names = [0, 1], title = 'Confusion Matrix for Random Forest',normalize=False)"
      ],
      "metadata": {
        "colab": {
          "base_uri": "https://localhost:8080/",
          "height": 467
        },
        "id": "TlqIk0MAUN1J",
        "outputId": "59701f03-6fdd-4c9c-f670-9f59334d2731"
      },
      "execution_count": null,
      "outputs": [
        {
          "output_type": "display_data",
          "data": {
            "text/plain": [
              "<Figure size 576x432 with 2 Axes>"
            ],
            "image/png": "[encoded data removed]"
          },
          "metadata": {
            "needs_background": "light"
          }
        }
      ]
    },
    {
      "cell_type": "code",
      "execution_count": null,
      "metadata": {
        "id": "xcu_SbHED3qu",
        "outputId": "1992470f-e820-407f-f423-959f70a5fa76",
        "colab": {
          "base_uri": "https://localhost:8080/",
          "height": 467
        }
      },
      "outputs": [
        {
          "output_type": "display_data",
          "data": {
            "text/plain": [
              "<Figure size 576x432 with 2 Axes>"
            ],
            "image/png": "[encoded data removed]"
          },
          "metadata": {
            "needs_background": "light"
          }
        }
      ],
      "source": [
        "#Confusion matrix to display the accuracies of predictions visually.\n",
        "confusion = confusion_matrix(y_test, predict_test, labels=[0, 1])\n",
        "plot_confusion_matrix(cm=confusion, target_names = [0, 1], title = 'Confusion Matrix for Gradient Boosting',normalize=False)"
      ]
    },
    {
      "cell_type": "markdown",
      "metadata": {
        "id": "Fj-XPKhyD3qv"
      },
      "source": [
        "With the Credit Loan dataset, data analysis has been performed for x values = loan status, current loan amount, credit score, term, home owernship, etc. and y value = bankrupcies. Four different machine learning models has been used for the analysis: Ordinary Least Squares, Decision Tree, Random Forest, and Gradient Boosting. Based on my research, Gradient Boosting has performed the best result with the highest accuracy among all four models. "
      ]
    }
  ],
  "metadata": {
    "colab": {
      "provenance": [],
      "include_colab_link": true
    },
    "kernelspec": {
      "display_name": "Python 3 (ipykernel)",
      "language": "python",
      "name": "python3"
    },
    "language_info": {
      "codemirror_mode": {
        "name": "ipython",
        "version": 3
      },
      "file_extension": ".py",
      "mimetype": "text/x-python",
      "name": "python",
      "nbconvert_exporter": "python",
      "pygments_lexer": "ipython3",
      "version": "3.9.12"
    }
  },
  "nbformat": 4,
  "nbformat_minor": 0
}